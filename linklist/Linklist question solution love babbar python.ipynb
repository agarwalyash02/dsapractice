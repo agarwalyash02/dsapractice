{
 "cells": [
  {
   "cell_type": "code",
   "execution_count": 9,
   "id": "40fdca0e",
   "metadata": {},
   "outputs": [],
   "source": [
    "class Node:\n",
    "    def __init__(self,data):\n",
    "        self.data = data\n",
    "        self.next = None\n",
    "class Link:\n",
    "    def __init__(self):\n",
    "        self.head = None\n",
    "        self.tail = None\n",
    "        \n",
    "    def addnode(self,data):\n",
    "        if self.head == None:\n",
    "            self.head = Node(data)\n",
    "            self.tail = self.head\n",
    "        else:\n",
    "            self.tail.next = Node(data)\n",
    "            self.tail = self.tail.next\n",
    "    \n",
    "    def printnode(self):\n",
    "        temp = self.head\n",
    "        while(temp):\n",
    "            print(temp.data)\n",
    "            temp = temp.next"
   ]
  },
  {
   "cell_type": "code",
   "execution_count": 10,
   "id": "745bff43",
   "metadata": {},
   "outputs": [],
   "source": [
    "l = Link()\n",
    "l.addnode(5)\n",
    "l.addnode(6)\n",
    "l.addnode(1)"
   ]
  },
  {
   "cell_type": "code",
   "execution_count": 11,
   "id": "3cec6617",
   "metadata": {},
   "outputs": [
    {
     "name": "stdout",
     "output_type": "stream",
     "text": [
      "5\n",
      "6\n",
      "1\n"
     ]
    }
   ],
   "source": [
    "l.printnode()"
   ]
  },
  {
   "cell_type": "code",
   "execution_count": 12,
   "id": "8730a5db",
   "metadata": {},
   "outputs": [
    {
     "name": "stdout",
     "output_type": "stream",
     "text": [
      "5\n",
      "6\n",
      "1\n"
     ]
    }
   ],
   "source": [
    "l.printnode()"
   ]
  },
  {
   "cell_type": "code",
   "execution_count": 13,
   "id": "f8f93c99",
   "metadata": {},
   "outputs": [],
   "source": [
    "l.addnode(75)\n",
    "l.addnode(9)\n",
    "l.addnode(1)"
   ]
  },
  {
   "cell_type": "code",
   "execution_count": 14,
   "id": "64bbc155",
   "metadata": {},
   "outputs": [
    {
     "name": "stdout",
     "output_type": "stream",
     "text": [
      "5\n",
      "6\n",
      "1\n",
      "75\n",
      "9\n",
      "1\n"
     ]
    }
   ],
   "source": [
    "l.printnode()"
   ]
  },
  {
   "cell_type": "code",
   "execution_count": null,
   "id": "e3bd7708",
   "metadata": {},
   "outputs": [],
   "source": []
  }
 ],
 "metadata": {
  "kernelspec": {
   "display_name": "Python 3",
   "language": "python",
   "name": "python3"
  },
  "language_info": {
   "codemirror_mode": {
    "name": "ipython",
    "version": 3
   },
   "file_extension": ".py",
   "mimetype": "text/x-python",
   "name": "python",
   "nbconvert_exporter": "python",
   "pygments_lexer": "ipython3",
   "version": "3.8.8"
  }
 },
 "nbformat": 4,
 "nbformat_minor": 5
}
