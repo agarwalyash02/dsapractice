{
 "cells": [
  {
   "cell_type": "markdown",
   "id": "bde16c83",
   "metadata": {},
   "source": [
    "### Question 1"
   ]
  },
  {
   "cell_type": "code",
   "execution_count": 10,
   "id": "84965115",
   "metadata": {},
   "outputs": [],
   "source": [
    "class Solution:\n",
    "    def recurr(self,i,j,m,n,move,l,visited):\n",
    "        if i == n-1 and j == n-1:\n",
    "            l.append(move)\n",
    "            return\n",
    "        if i+1<n and m[i+1][j] == 1 and visited[i+1][j] == 0:\n",
    "            visited[i][j] = 1\n",
    "            self.recurr(i+1,j,m,n,move + \"D\",l,visited)\n",
    "            visited[i][j] = 0\n",
    "        if j+1<n and m[i][j+1] == 1 and visited[i][j+1] == 0:\n",
    "            visited[i][j] = 1\n",
    "            self.recurr(i,j+1,m,n,move + \"R\",l,visited)\n",
    "            visited[i][j] = 0\n",
    "        if j-1>=0 and m[i][j-1] == 1 and visited[i][j-1] == 0:\n",
    "            visited[i][j] = 1\n",
    "            self.recurr(i,j-1,m,n,move + \"L\",l,visited)\n",
    "            visited[i][j] = 0\n",
    "        if i-1>=0 and m[i-1][j] == 1 and visited[i-1][j] == 0:\n",
    "            visited[i][j] = 1\n",
    "            self.recurr(i-1,j,m,n,move + \"U\",l,visited)\n",
    "            visited[i][j] = 0\n",
    "        return\n",
    "    def findPath(self, m, n):\n",
    "        if m[n-1][n-1] == 0 or m[0][0] == 0:\n",
    "            return 0\n",
    "        l = []\n",
    "        visited = [[0 for i in range(n)] for i in range(n)]\n",
    "        # code here\n",
    "        s = \"\"\n",
    "        getval = self.recurr(0,0,m,n,s,l,visited)\n",
    "        print(l)\n",
    "        return getval"
   ]
  },
  {
   "cell_type": "code",
   "execution_count": 19,
   "id": "ef86ca3b",
   "metadata": {},
   "outputs": [
    {
     "name": "stdout",
     "output_type": "stream",
     "text": [
      "['DRRRDD', 'DRRURDDD']\n"
     ]
    }
   ],
   "source": [
    "m =     [[1, 0, 1, 1],\n",
    "         [1, 1, 1, 1], \n",
    "         [1, 0, 0, 1],\n",
    "         [0, 1, 0, 1]]\n",
    "ob = Solution()\n",
    "ob.findPath(m,4)"
   ]
  },
  {
   "cell_type": "code",
   "execution_count": 28,
   "id": "2b407674",
   "metadata": {},
   "outputs": [],
   "source": [
    "class Solution:\n",
    "    def recurr(self,i,j,m,n,move,l,visited,dpi,dpj):\n",
    "        if i == n-1 and j == n-1:\n",
    "            l.append(move)\n",
    "            return\n",
    "        direc = \"DRLU\"\n",
    "        for k in range(4):\n",
    "            nexti = i + dpi[k]\n",
    "            nextj = j + dpj[k]\n",
    "            if nexti<n and nexti>=0 and nextj<n and nextj>=0 and m[nexti][nextj] == 1 and visited[nexti][nextj] == 0:\n",
    "                visited[i][j] = 1\n",
    "                self.recurr(nexti,nextj,m,n,move + direc[k],l,visited,dpi,dpj)\n",
    "                visited[i][j] = 0\n",
    "        return\n",
    "    def findPath(self, m, n):\n",
    "        if m[n-1][n-1] == 0 or m[0][0] == 0:\n",
    "            return 0\n",
    "        l = []\n",
    "        visited = [[0 for i in range(n)] for i in range(n)]\n",
    "        # code here\n",
    "        dpi = [1,0,0,-1]\n",
    "        dpj = [0,1,-1,0]\n",
    "        s = \"\"\n",
    "        self.recurr(0,0,m,n,s,l,visited,dpi,dpj)\n",
    "        l.sort()\n",
    "        return l"
   ]
  },
  {
   "cell_type": "code",
   "execution_count": 29,
   "id": "75964347",
   "metadata": {},
   "outputs": [
    {
     "data": {
      "text/plain": [
       "['DRRRDD', 'DRRURDDD']"
      ]
     },
     "execution_count": 29,
     "metadata": {},
     "output_type": "execute_result"
    }
   ],
   "source": [
    "m =     [[1, 0, 1, 1],\n",
    "         [1, 1, 1, 1], \n",
    "         [1, 0, 0, 1],\n",
    "         [0, 1, 0, 1]]\n",
    "ob = Solution()\n",
    "ob.findPath(m,4)"
   ]
  },
  {
   "cell_type": "markdown",
   "id": "ff124c9a",
   "metadata": {},
   "source": [
    "### Question 2"
   ]
  },
  {
   "cell_type": "code",
   "execution_count": 30,
   "id": "b58b7938",
   "metadata": {},
   "outputs": [],
   "source": [
    "W = 2\n",
    "n = 1\n",
    "dp = [[-1]*(W+1)]*(n+1)"
   ]
  },
  {
   "cell_type": "code",
   "execution_count": 31,
   "id": "38447de4",
   "metadata": {},
   "outputs": [
    {
     "data": {
      "text/plain": [
       "[[-1, -1, -1], [-1, -1, -1]]"
      ]
     },
     "execution_count": 31,
     "metadata": {},
     "output_type": "execute_result"
    }
   ],
   "source": [
    "dp"
   ]
  },
  {
   "cell_type": "code",
   "execution_count": 73,
   "id": "61670208",
   "metadata": {},
   "outputs": [],
   "source": [
    "def knapSack(W, wt, val, n):\n",
    "    dp = [[-1]*(W+1)]*(n+1)\n",
    "    for i in range(n+1):\n",
    "        for j in range(W+1):\n",
    "            if i == 0 or j == 0:\n",
    "                dp[i][j] = 0\n",
    "    for i in range(1,n+1):\n",
    "        for j in range(1,W+1):\n",
    "            if wt[i-1] <=j:\n",
    "                dp[i][j] = max((val[i-1] + dp[i-1][j-wt[i-1]]),dp[i-1][j])\n",
    "            else:\n",
    "                dp[i][j] = dp[i-1][j]\n",
    "        \n",
    "    return dp[n][W]"
   ]
  },
  {
   "cell_type": "code",
   "execution_count": 74,
   "id": "792882a2",
   "metadata": {},
   "outputs": [
    {
     "data": {
      "text/plain": [
       "12"
      ]
     },
     "execution_count": 74,
     "metadata": {},
     "output_type": "execute_result"
    }
   ],
   "source": [
    "N = 3\n",
    "W = 4\n",
    "val = [1,2,3]\n",
    "wt = [4,5,1]\n",
    "knapSack(W,wt,val,N)"
   ]
  },
  {
   "cell_type": "code",
   "execution_count": null,
   "id": "83e6fc76",
   "metadata": {},
   "outputs": [],
   "source": [
    "class Solution:\n",
    "    \n",
    "    #Function to return max value that can be put in knapsack of capacity W.\n",
    "    def knapSack(self,W, wt, val, n):\n",
    "        dp = [[-1 for i in range(W+1)] for j in range(n+1)]\n",
    "        for i in range(n+1):\n",
    "            for j in range(W+1):\n",
    "                if i == 0 or j == 0:\n",
    "                    dp[i][j] = 0\n",
    "        for i in range(1,n+1):\n",
    "            for j in range(1,W+1):\n",
    "                if wt[i-1] <=j:\n",
    "                    dp[i][j] = max((val[i-1] + dp[i-1][j-wt[i-1]]),dp[i-1][j])\n",
    "                else:\n",
    "                    dp[i][j] = dp[i-1][j]\n",
    "        return dp[n][W]"
   ]
  },
  {
   "cell_type": "code",
   "execution_count": 75,
   "id": "1a0f27e5",
   "metadata": {},
   "outputs": [
    {
     "data": {
      "text/plain": [
       "4"
      ]
     },
     "execution_count": 75,
     "metadata": {},
     "output_type": "execute_result"
    }
   ],
   "source": [
    "1^5"
   ]
  },
  {
   "cell_type": "code",
   "execution_count": null,
   "id": "c68e2339",
   "metadata": {},
   "outputs": [],
   "source": []
  }
 ],
 "metadata": {
  "kernelspec": {
   "display_name": "Python 3",
   "language": "python",
   "name": "python3"
  },
  "language_info": {
   "codemirror_mode": {
    "name": "ipython",
    "version": 3
   },
   "file_extension": ".py",
   "mimetype": "text/x-python",
   "name": "python",
   "nbconvert_exporter": "python",
   "pygments_lexer": "ipython3",
   "version": "3.8.8"
  }
 },
 "nbformat": 4,
 "nbformat_minor": 5
}
