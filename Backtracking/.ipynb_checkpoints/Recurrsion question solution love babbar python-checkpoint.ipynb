{
 "cells": [
  {
   "cell_type": "markdown",
   "id": "bde16c83",
   "metadata": {},
   "source": [
    "### Question 1"
   ]
  },
  {
   "cell_type": "code",
   "execution_count": 84,
   "id": "84965115",
   "metadata": {},
   "outputs": [],
   "source": [
    "class Solution:\n",
    "    def recurr(self,i,j,m,n,s,l):\n",
    "        if i == n-1 and j == n-1:\n",
    "            l.append(s)\n",
    "            return\n",
    "        if i+1<n and m[i+1][j] == 1:\n",
    "            y = s + \"D\"\n",
    "            x = self.recurr(i+1,j,m,n,y,l)\n",
    "        if j+1<n and m[i][j+1] == 1:\n",
    "            y = s + \"R\"\n",
    "            x = self.recurr(i,j+1,m,n,y,l)\n",
    "        return\n",
    "    def findPath(self, m, n):\n",
    "        if m[n-1][n-1] == 0 or m[0][0] == 0:\n",
    "            return 0\n",
    "        l = []\n",
    "        # code here\n",
    "        s = \"\"\n",
    "        getval = self.recurr(0,0,m,n,s,l)\n",
    "        print(l)\n",
    "        return getval"
   ]
  },
  {
   "cell_type": "code",
   "execution_count": 85,
   "id": "ef86ca3b",
   "metadata": {},
   "outputs": [],
   "source": [
    "m =     [[1, 0, 0, 0],\n",
    "         [1, 1, 0, 1], \n",
    "         [1, 1, 0, 0],\n",
    "         [0, 1, 1, 1]]"
   ]
  },
  {
   "cell_type": "code",
   "execution_count": 86,
   "id": "a0a24e34",
   "metadata": {},
   "outputs": [],
   "source": [
    "ob = Solution()"
   ]
  },
  {
   "cell_type": "code",
   "execution_count": 87,
   "id": "c27a6c53",
   "metadata": {},
   "outputs": [
    {
     "name": "stdout",
     "output_type": "stream",
     "text": [
      "['DDRDRR', 'DRDDRR']\n"
     ]
    }
   ],
   "source": [
    "ob.findPath(m,4)"
   ]
  },
  {
   "cell_type": "code",
   "execution_count": 79,
   "id": "e067e950",
   "metadata": {},
   "outputs": [
    {
     "data": {
      "text/plain": [
       "[[1, 0, 0, 0], [1, 1, 0, 1], [1, 1, 0, 0], [0, 1, 1, 1]]"
      ]
     },
     "execution_count": 79,
     "metadata": {},
     "output_type": "execute_result"
    }
   ],
   "source": [
    "m"
   ]
  },
  {
   "cell_type": "code",
   "execution_count": null,
   "id": "4f137815",
   "metadata": {},
   "outputs": [],
   "source": []
  }
 ],
 "metadata": {
  "kernelspec": {
   "display_name": "Python 3",
   "language": "python",
   "name": "python3"
  },
  "language_info": {
   "codemirror_mode": {
    "name": "ipython",
    "version": 3
   },
   "file_extension": ".py",
   "mimetype": "text/x-python",
   "name": "python",
   "nbconvert_exporter": "python",
   "pygments_lexer": "ipython3",
   "version": "3.8.8"
  }
 },
 "nbformat": 4,
 "nbformat_minor": 5
}
