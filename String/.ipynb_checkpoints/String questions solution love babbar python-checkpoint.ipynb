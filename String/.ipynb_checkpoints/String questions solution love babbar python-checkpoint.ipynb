{
 "cells": [
  {
   "cell_type": "markdown",
   "id": "dcc954c5",
   "metadata": {},
   "source": [
    "### Question 1"
   ]
  },
  {
   "cell_type": "code",
   "execution_count": 13,
   "id": "0a3df20c",
   "metadata": {},
   "outputs": [],
   "source": [
    "def reverseString(s) -> None:\n",
    "    start = 0\n",
    "    end = len(s)-1\n",
    "    while(start<end):\n",
    "        s[start],s[end] = s[end],s[start]\n",
    "        start+=1\n",
    "        end-=1\n",
    "    return s"
   ]
  },
  {
   "cell_type": "markdown",
   "id": "68894138",
   "metadata": {},
   "source": [
    "### Question 2"
   ]
  },
  {
   "cell_type": "code",
   "execution_count": 17,
   "id": "a8c13958",
   "metadata": {},
   "outputs": [],
   "source": [
    "def isPlaindrome(S):\n",
    "    start = 0\n",
    "    end = len(S)-1\n",
    "    while(start<end):\n",
    "        if S[start] != S[end]:\n",
    "            return 0\n",
    "        start+=1\n",
    "        end-=1\n",
    "    return 1"
   ]
  },
  {
   "cell_type": "markdown",
   "id": "a7356b7f",
   "metadata": {},
   "source": [
    "### Question 3`"
   ]
  },
  {
   "cell_type": "code",
   "execution_count": 4,
   "id": "484fbb66",
   "metadata": {},
   "outputs": [],
   "source": [
    "def dupli(arr):\n",
    "    s = set()\n",
    "    l = set()\n",
    "    for i in arr:\n",
    "        if i in s:\n",
    "            l.add(i)\n",
    "        else:\n",
    "            s.add(i)\n",
    "    print(s)\n",
    "    return l"
   ]
  },
  {
   "cell_type": "code",
   "execution_count": 5,
   "id": "5f8b6129",
   "metadata": {},
   "outputs": [
    {
     "name": "stdout",
     "output_type": "stream",
     "text": [
      "{'e', 'g', 'i', 's', 't', 'r', ' ', 'n'}\n"
     ]
    },
    {
     "data": {
      "text/plain": [
       "{'s', 't'}"
      ]
     },
     "execution_count": 5,
     "metadata": {},
     "output_type": "execute_result"
    }
   ],
   "source": [
    "string = \"test string\"\n",
    "dupli(string)"
   ]
  },
  {
   "cell_type": "markdown",
   "id": "70942c52",
   "metadata": {},
   "source": [
    "### Question 7"
   ]
  },
  {
   "cell_type": "code",
   "execution_count": 1,
   "id": "61db3317",
   "metadata": {},
   "outputs": [],
   "source": [
    "# https://www.youtube.com/watch?v=1YUqtoT9YoE&ab_channel=CodeLibrary\n",
    "class Solution:\n",
    "    def countAndSay(self, n: int) -> str:\n",
    "        if n == 1:\n",
    "            return \"1\"\n",
    "        \n",
    "        num = \"11\"\n",
    "        for i in range(2,n):\n",
    "            temp = \"\"\n",
    "            prev = num[0]\n",
    "            lenght = 1\n",
    "            for j in range(1,len(num)):\n",
    "                if num[j] == prev:\n",
    "                    lenght+=1\n",
    "                else:\n",
    "                    temp = temp + str(lenght) + prev\n",
    "                    prev = num[j]\n",
    "                    lenght = 1\n",
    "                if j == len(num) - 1:\n",
    "                    temp = temp + str(lenght) + prev\n",
    "            num = temp\n",
    "        return num"
   ]
  },
  {
   "cell_type": "markdown",
   "id": "5f722c92",
   "metadata": {},
   "source": [
    "### Question 12"
   ]
  },
  {
   "cell_type": "code",
   "execution_count": 4,
   "id": "669a0054",
   "metadata": {},
   "outputs": [],
   "source": [
    "def get_cnt(s):\n",
    "    cnt0 = 0\n",
    "    cnt1 = 0\n",
    "    cnt = 0\n",
    "    for i  in s:\n",
    "        if i == \"0\":\n",
    "            cnt0+=1\n",
    "        else:\n",
    "            cnt1+=1\n",
    "        if cnt0 == cnt1:\n",
    "            cnt+=1\n",
    "    if cnt == 0:\n",
    "        return -1\n",
    "    return cnt"
   ]
  },
  {
   "cell_type": "code",
   "execution_count": 6,
   "id": "a3825531",
   "metadata": {},
   "outputs": [
    {
     "name": "stdout",
     "output_type": "stream",
     "text": [
      "3\n"
     ]
    }
   ],
   "source": [
    "st = \"0111100010\"\n",
    "n = len(st)\n",
    "print(get_cnt(st))"
   ]
  },
  {
   "cell_type": "code",
   "execution_count": null,
   "id": "ebf82f58",
   "metadata": {},
   "outputs": [],
   "source": []
  },
  {
   "cell_type": "code",
   "execution_count": null,
   "id": "04674f5b",
   "metadata": {},
   "outputs": [],
   "source": []
  }
 ],
 "metadata": {
  "kernelspec": {
   "display_name": "Python 3",
   "language": "python",
   "name": "python3"
  },
  "language_info": {
   "codemirror_mode": {
    "name": "ipython",
    "version": 3
   },
   "file_extension": ".py",
   "mimetype": "text/x-python",
   "name": "python",
   "nbconvert_exporter": "python",
   "pygments_lexer": "ipython3",
   "version": "3.8.8"
  }
 },
 "nbformat": 4,
 "nbformat_minor": 5
}
