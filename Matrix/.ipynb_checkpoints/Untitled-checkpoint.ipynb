{
 "cells": [
  {
   "cell_type": "code",
   "execution_count": null,
   "id": "459c5a31",
   "metadata": {},
   "outputs": [],
   "source": []
  },
  {
   "cell_type": "markdown",
   "id": "9548c80d",
   "metadata": {},
   "source": [
    "### Question 3"
   ]
  },
  {
   "cell_type": "code",
   "execution_count": 8,
   "id": "11b8aeb7",
   "metadata": {},
   "outputs": [
    {
     "name": "stdout",
     "output_type": "stream",
     "text": [
      "Median is 5\n"
     ]
    }
   ],
   "source": [
    "from bisect import bisect_right as upper_bound\n",
    "class Solution:\n",
    "    def median(self, matrix, r, c):\n",
    "    \tmi = matrix[0][0]\n",
    "    \tmx = 0\n",
    "    \tfor i in range(r):\n",
    "    \t    if matrix[i][0]<mi:\n",
    "    \t        mi = matrix[i][0]\n",
    "    \t    if matrix[i][c-1]>mx:\n",
    "    \t        mx = matrix[i][c-1]\n",
    "        desired = (r*c +1)//2\n",
    "        while(mi<mx):\n",
    "            mid = mi + (mx-mi)//2\n",
    "            place = 0\n",
    "            for i in range(r):\n",
    "                j = upper_bound(matrix[i],mid)\n",
    "                place = place + j;\n",
    "            if(place<desired):\n",
    "                mi = mid + 1\n",
    "            else:\n",
    "                mx = mid\n",
    "        return mi"
   ]
  },
  {
   "cell_type": "markdown",
   "id": "79f91745",
   "metadata": {},
   "source": [
    "### Question 4"
   ]
  },
  {
   "cell_type": "code",
   "execution_count": null,
   "id": "323defe6",
   "metadata": {},
   "outputs": [],
   "source": []
  }
 ],
 "metadata": {
  "kernelspec": {
   "display_name": "Python 3",
   "language": "python",
   "name": "python3"
  },
  "language_info": {
   "codemirror_mode": {
    "name": "ipython",
    "version": 3
   },
   "file_extension": ".py",
   "mimetype": "text/x-python",
   "name": "python",
   "nbconvert_exporter": "python",
   "pygments_lexer": "ipython3",
   "version": "3.8.8"
  }
 },
 "nbformat": 4,
 "nbformat_minor": 5
}
