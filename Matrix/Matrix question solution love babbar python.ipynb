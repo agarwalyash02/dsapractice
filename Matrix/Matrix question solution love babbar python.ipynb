{
 "cells": [
  {
   "cell_type": "markdown",
   "id": "b21c05ec",
   "metadata": {},
   "source": [
    "### Question 1"
   ]
  },
  {
   "cell_type": "code",
   "execution_count": 41,
   "id": "f3c98b8a",
   "metadata": {},
   "outputs": [],
   "source": [
    "class Solution:\n",
    "    \n",
    "    #Function to return a list of integers denoting spiral traversal of matrix.\n",
    "    def spirallyTraverse(self,matrix, r, c):\n",
    "        k = 0\n",
    "        l = 0\n",
    "        arr = []\n",
    "        while(k<r and l< c):\n",
    "            for i in range(l,c):\n",
    "                arr.append(matrix[k][i])\n",
    "            k+=1\n",
    "            for i in range(k,r):\n",
    "                arr.append(matrix[i][c-1])\n",
    "            c-=1\n",
    "            if(k<r):\n",
    "                for i in range(c-1,l-1,-1):\n",
    "                    arr.append(matrix[r-1][i])\n",
    "                r-=1\n",
    "            if(l<c):\n",
    "                for i in range(r-1,k-1,-1):\n",
    "                    arr.append(matrix[i][l])\n",
    "                l+=1\n",
    "        return arr"
   ]
  },
  {
   "cell_type": "markdown",
   "id": "bd22d1cb",
   "metadata": {},
   "source": [
    "### Question 2"
   ]
  },
  {
   "cell_type": "code",
   "execution_count": null,
   "id": "58cd0d59",
   "metadata": {},
   "outputs": [],
   "source": [
    "class Solution:\n",
    "    def search_in(self,arr,target):\n",
    "        for i in arr:\n",
    "            if target == i:\n",
    "                return True\n",
    "        return False\n",
    "    def searchMatrix(self, matrix: List[List[int]], target: int) -> bool:\n",
    "        row = len(matrix) - 1\n",
    "        col = len(matrix[0]) - 1\n",
    "        for i in range(row+1):\n",
    "            if target>=matrix[i][0] and target<=matrix[i][col]:\n",
    "                if target == matrix[i][0]:\n",
    "                    return True\n",
    "                else:\n",
    "                    return self.search_in(matrix[i],target)\n",
    "                return False\n",
    "        return False"
   ]
  },
  {
   "cell_type": "markdown",
   "id": "37adeb3f",
   "metadata": {},
   "source": [
    "### Question 3"
   ]
  },
  {
   "cell_type": "code",
   "execution_count": 8,
   "id": "c8e130df",
   "metadata": {},
   "outputs": [
    {
     "name": "stdout",
     "output_type": "stream",
     "text": [
      "Median is 5\n"
     ]
    }
   ],
   "source": [
    "from bisect import bisect_right as upper_bound\n",
    "class Solution:\n",
    "    def median(self, matrix, r, c):\n",
    "    \tmi = matrix[0][0]\n",
    "    \tmx = 0\n",
    "    \tfor i in range(r):\n",
    "    \t    if matrix[i][0]<mi:\n",
    "    \t        mi = matrix[i][0]\n",
    "    \t    if matrix[i][c-1]>mx:\n",
    "    \t        mx = matrix[i][c-1]\n",
    "        desired = (r*c +1)//2\n",
    "        while(mi<mx):\n",
    "            mid = mi + (mx-mi)//2\n",
    "            place = 0\n",
    "            for i in range(r):\n",
    "                j = upper_bound(matrix[i],mid)\n",
    "                place = place + j;\n",
    "            if(place<desired):\n",
    "                mi = mid + 1\n",
    "            else:\n",
    "                mx = mid\n",
    "        return mi"
   ]
  },
  {
   "cell_type": "markdown",
   "id": "4a5042dd",
   "metadata": {},
   "source": [
    "### Question 4"
   ]
  },
  {
   "cell_type": "code",
   "execution_count": 11,
   "id": "2d49a0cf",
   "metadata": {},
   "outputs": [],
   "source": [
    "# https://www.youtube.com/watch?v=z092lX-nhik\n",
    "class Solution:\n",
    "\tdef rowWithMax1s(self,arr, n, m):\n",
    "\t\tr = len(arr)\n",
    "\t\tc = len(arr[0])\n",
    "\t\tindex_max = 0\n",
    "\t\tindex = c-1\n",
    "\t\t\n",
    "\t\tfor i in range(r):\n",
    "\t\t    flag = False\n",
    "\t\t    while(index>=0 and arr[i][index]==1):\n",
    "\t\t        flag = True\n",
    "\t\t        index-=1\n",
    "\t\t        if(flag):\n",
    "\t\t            index_max = i\n",
    "\t\tif index_max == 0 and arr[0][c-1] == 0:\n",
    "\t\t        return -1\n",
    "\t\treturn index_max"
   ]
  },
  {
   "cell_type": "markdown",
   "id": "a172b066",
   "metadata": {},
   "source": [
    "#### Question 5"
   ]
  },
  {
   "cell_type": "code",
   "execution_count": 37,
   "id": "4bf34b7e",
   "metadata": {},
   "outputs": [],
   "source": [
    "class Solution:\n",
    "    def hist_area(self,arr):\n",
    "        n = len(arr)\n",
    "        left = [-1]*n\n",
    "        right = [-1]*n\n",
    "        stack = []\n",
    "        \n",
    "        # for left\n",
    "        for i in range(n):\n",
    "            if(len(stack)==0):\n",
    "                left[i] = 0\n",
    "                stack.append(i)\n",
    "            else:\n",
    "                while((len(stack)!=0) and arr[stack[-1]]>=arr[i]):\n",
    "                    stack.pop()\n",
    "                if(len(stack)==0):\n",
    "                    left[i] = 0\n",
    "                else:\n",
    "                    left[i] = stack[-1] + 1\n",
    "                stack.append(i)\n",
    "        \n",
    "        # for right\n",
    "        stack = []\n",
    "        max_area = 0\n",
    "        for i in range(n):\n",
    "            index = n-i-1\n",
    "            if(len(stack)==0):\n",
    "                right[index] = n-1\n",
    "                stack.append(index)\n",
    "            else:\n",
    "                while((len(stack)!=0) and arr[stack[-1]]>=arr[index]):\n",
    "                    stack.pop()\n",
    "                if(len(stack)==0):\n",
    "                    right[index] = n-1\n",
    "                else:\n",
    "                    right[index] = stack[-1] - 1\n",
    "                stack.append(index)\n",
    "            max_area = max(max_area,arr[index]*(right[index]-left[index]+1))\n",
    "        return max_area\n",
    "    def maxArea(self,M, n, m):\n",
    "        result = self.hist_area(M[0])\n",
    "        \n",
    "        for i in range(1,n):\n",
    "            for j in range(m):\n",
    "                if(M[i][j]):\n",
    "                    M[i][j]+=M[i-1][j]\n",
    "            result = max(result,self.hist_area(M[i]))\n",
    "        return result"
   ]
  },
  {
   "cell_type": "code",
   "execution_count": 38,
   "id": "451d7d05",
   "metadata": {},
   "outputs": [
    {
     "name": "stdout",
     "output_type": "stream",
     "text": [
      "Area of maximum rectangle is 8\n"
     ]
    }
   ],
   "source": [
    "A = [[0, 1, 1, 0],\n",
    "     [1, 1, 1, 1],\n",
    "     [1, 1, 1, 1],\n",
    "     [1, 1, 0, 0]]\n",
    "ans = Solution()\n",
    "\n",
    "print(\"Area of maximum rectangle is\",\n",
    "      ans.maxArea(A,4,4))"
   ]
  },
  {
   "cell_type": "code",
   "execution_count": null,
   "id": "b32e8a91",
   "metadata": {},
   "outputs": [],
   "source": []
  },
  {
   "cell_type": "code",
   "execution_count": 40,
   "id": "03c1f444",
   "metadata": {},
   "outputs": [
    {
     "name": "stdout",
     "output_type": "stream",
     "text": [
      "4\n",
      "3\n",
      "2\n"
     ]
    }
   ],
   "source": [
    "for i in range(4,1,-1):\n",
    "    print(i)"
   ]
  },
  {
   "cell_type": "code",
   "execution_count": null,
   "id": "ca293439",
   "metadata": {},
   "outputs": [],
   "source": []
  },
  {
   "cell_type": "markdown",
   "id": "0b365003",
   "metadata": {},
   "source": [
    "### Question 8"
   ]
  },
  {
   "cell_type": "code",
   "execution_count": 3,
   "id": "ca1ab531",
   "metadata": {},
   "outputs": [],
   "source": [
    "# https://www.youtube.com/watch?v=Y72QeX0Efxw&ab_channel=takeUforward\n",
    "class Solution:\n",
    "    def rotate(self, matrix) -> None:\n",
    "        \"\"\"\n",
    "        Do not return anything, modify matrix in-place instead.\n",
    "        \"\"\"\n",
    "        n = len(matrix)\n",
    "        \n",
    "        # transpose the matrix\n",
    "        for i in range(n):\n",
    "            for j in range(i):\n",
    "                matrix[i][j],matrix[j][i] = matrix[j][i],matrix[i][j]\n",
    "           \n",
    "        # reverse the every row of the matrix\n",
    "        for i in matrix:\n",
    "            i.reverse()"
   ]
  },
  {
   "cell_type": "markdown",
   "id": "e10843d6",
   "metadata": {},
   "source": [
    "### Question 10"
   ]
  },
  {
   "cell_type": "code",
   "execution_count": 12,
   "id": "1d75a1a7",
   "metadata": {},
   "outputs": [],
   "source": [
    "def get_elements(arr):\n",
    "    m = len(arr)\n",
    "    n = len(arr[0])\n",
    "    l = []\n",
    "    repeat = dict()\n",
    "    \n",
    "    for i in arr[0]:\n",
    "        repeat[i] = 1\n",
    "    for i in range(1,m):\n",
    "        for j in range(n):\n",
    "            if repeat.get(arr[i][j]) == i:\n",
    "                repeat[arr[i][j]] +=1\n",
    "                \n",
    "                if i == m-1:\n",
    "                    l.append(arr[i][j])\n",
    "    return l      "
   ]
  },
  {
   "cell_type": "code",
   "execution_count": 13,
   "id": "cb829f54",
   "metadata": {},
   "outputs": [
    {
     "data": {
      "text/plain": [
       "[8, 1]"
      ]
     },
     "execution_count": 13,
     "metadata": {},
     "output_type": "execute_result"
    }
   ],
   "source": [
    "mat = [[1, 2, 1, 4, 8],\n",
    "       [3, 7, 8, 5, 1],\n",
    "       [8, 7, 7, 3, 1],\n",
    "       [8, 1, 2, 7, 9]]\n",
    "\n",
    "get_elements(mat)"
   ]
  },
  {
   "cell_type": "code",
   "execution_count": null,
   "id": "608628ed",
   "metadata": {},
   "outputs": [],
   "source": []
  }
 ],
 "metadata": {
  "kernelspec": {
   "display_name": "Python 3",
   "language": "python",
   "name": "python3"
  },
  "language_info": {
   "codemirror_mode": {
    "name": "ipython",
    "version": 3
   },
   "file_extension": ".py",
   "mimetype": "text/x-python",
   "name": "python",
   "nbconvert_exporter": "python",
   "pygments_lexer": "ipython3",
   "version": "3.8.8"
  }
 },
 "nbformat": 4,
 "nbformat_minor": 5
}
