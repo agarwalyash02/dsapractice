{
 "cells": [
  {
   "cell_type": "markdown",
   "id": "5f44c029",
   "metadata": {},
   "source": [
    "### Question 1"
   ]
  },
  {
   "cell_type": "code",
   "execution_count": 41,
   "id": "75f1055d",
   "metadata": {},
   "outputs": [],
   "source": [
    "class Solution:\n",
    "    \n",
    "    #Function to return a list of integers denoting spiral traversal of matrix.\n",
    "    def spirallyTraverse(self,matrix, r, c):\n",
    "        k = 0\n",
    "        l = 0\n",
    "        arr = []\n",
    "        while(k<r and l< c):\n",
    "            for i in range(l,c):\n",
    "                arr.append(matrix[k][i])\n",
    "            k+=1\n",
    "            for i in range(k,r):\n",
    "                arr.append(matrix[i][c-1])\n",
    "            c-=1\n",
    "            if(k<r):\n",
    "                for i in range(c-1,l-1,-1):\n",
    "                    arr.append(matrix[r-1][i])\n",
    "                r-=1\n",
    "            if(l<c):\n",
    "                for i in range(r-1,k-1,-1):\n",
    "                    arr.append(matrix[i][l])\n",
    "                l+=1\n",
    "        return arr"
   ]
  },
  {
   "cell_type": "markdown",
   "id": "6fa66a70",
   "metadata": {},
   "source": [
    "### Question 2"
   ]
  },
  {
   "cell_type": "code",
   "execution_count": null,
   "id": "95a28f13",
   "metadata": {},
   "outputs": [],
   "source": [
    "class Solution:\n",
    "    def search_in(self,arr,target):\n",
    "        for i in arr:\n",
    "            if target == i:\n",
    "                return True\n",
    "        return False\n",
    "    def searchMatrix(self, matrix: List[List[int]], target: int) -> bool:\n",
    "        row = len(matrix) - 1\n",
    "        col = len(matrix[0]) - 1\n",
    "        for i in range(row+1):\n",
    "            if target>=matrix[i][0] and target<=matrix[i][col]:\n",
    "                if target == matrix[i][0]:\n",
    "                    return True\n",
    "                else:\n",
    "                    return self.search_in(matrix[i],target)\n",
    "                return False\n",
    "        return False"
   ]
  },
  {
   "cell_type": "markdown",
   "id": "7713412b",
   "metadata": {},
   "source": [
    "### Question 3"
   ]
  },
  {
   "cell_type": "code",
   "execution_count": 8,
   "id": "b9a3a603",
   "metadata": {},
   "outputs": [
    {
     "name": "stdout",
     "output_type": "stream",
     "text": [
      "Median is 5\n"
     ]
    }
   ],
   "source": [
    "from bisect import bisect_right as upper_bound\n",
    "class Solution:\n",
    "    def median(self, matrix, r, c):\n",
    "    \tmi = matrix[0][0]\n",
    "    \tmx = 0\n",
    "    \tfor i in range(r):\n",
    "    \t    if matrix[i][0]<mi:\n",
    "    \t        mi = matrix[i][0]\n",
    "    \t    if matrix[i][c-1]>mx:\n",
    "    \t        mx = matrix[i][c-1]\n",
    "        desired = (r*c +1)//2\n",
    "        while(mi<mx):\n",
    "            mid = mi + (mx-mi)//2\n",
    "            place = 0\n",
    "            for i in range(r):\n",
    "                j = upper_bound(matrix[i],mid)\n",
    "                place = place + j;\n",
    "            if(place<desired):\n",
    "                mi = mid + 1\n",
    "            else:\n",
    "                mx = mid\n",
    "        return mi"
   ]
  },
  {
   "cell_type": "markdown",
   "id": "cefb3aff",
   "metadata": {},
   "source": [
    "### Question 4"
   ]
  },
  {
   "cell_type": "code",
   "execution_count": 11,
   "id": "fc06f4f3",
   "metadata": {},
   "outputs": [],
   "source": [
    "# https://www.youtube.com/watch?v=z092lX-nhik\n",
    "class Solution:\n",
    "\tdef rowWithMax1s(self,arr, n, m):\n",
    "\t\tr = len(arr)\n",
    "\t\tc = len(arr[0])\n",
    "\t\tindex_max = 0\n",
    "\t\tindex = c-1\n",
    "\t\t\n",
    "\t\tfor i in range(r):\n",
    "\t\t    flag = False\n",
    "\t\t    while(index>=0 and arr[i][index]==1):\n",
    "\t\t        flag = True\n",
    "\t\t        index-=1\n",
    "\t\t        if(flag):\n",
    "\t\t            index_max = i\n",
    "\t\tif index_max == 0 and arr[0][c-1] == 0:\n",
    "\t\t        return -1\n",
    "\t\treturn index_max"
   ]
  },
  {
   "cell_type": "markdown",
   "id": "f4ce0fc5",
   "metadata": {},
   "source": [
    "#### Question 5"
   ]
  },
  {
   "cell_type": "code",
   "execution_count": 37,
   "id": "bdbe7891",
   "metadata": {},
   "outputs": [],
   "source": [
    "class Solution:\n",
    "    def hist_area(self,arr):\n",
    "        n = len(arr)\n",
    "        left = [-1]*n\n",
    "        right = [-1]*n\n",
    "        stack = []\n",
    "        \n",
    "        # for left\n",
    "        for i in range(n):\n",
    "            if(len(stack)==0):\n",
    "                left[i] = 0\n",
    "                stack.append(i)\n",
    "            else:\n",
    "                while((len(stack)!=0) and arr[stack[-1]]>=arr[i]):\n",
    "                    stack.pop()\n",
    "                if(len(stack)==0):\n",
    "                    left[i] = 0\n",
    "                else:\n",
    "                    left[i] = stack[-1] + 1\n",
    "                stack.append(i)\n",
    "        \n",
    "        # for right\n",
    "        stack = []\n",
    "        max_area = 0\n",
    "        for i in range(n):\n",
    "            index = n-i-1\n",
    "            if(len(stack)==0):\n",
    "                right[index] = n-1\n",
    "                stack.append(index)\n",
    "            else:\n",
    "                while((len(stack)!=0) and arr[stack[-1]]>=arr[index]):\n",
    "                    stack.pop()\n",
    "                if(len(stack)==0):\n",
    "                    right[index] = n-1\n",
    "                else:\n",
    "                    right[index] = stack[-1] - 1\n",
    "                stack.append(index)\n",
    "            max_area = max(max_area,arr[index]*(right[index]-left[index]+1))\n",
    "        return max_area\n",
    "    def maxArea(self,M, n, m):\n",
    "        result = self.hist_area(M[0])\n",
    "        \n",
    "        for i in range(1,n):\n",
    "            for j in range(m):\n",
    "                if(M[i][j]):\n",
    "                    M[i][j]+=M[i-1][j]\n",
    "            result = max(result,self.hist_area(M[i]))\n",
    "        return result"
   ]
  },
  {
   "cell_type": "code",
   "execution_count": 38,
   "id": "76764f35",
   "metadata": {},
   "outputs": [
    {
     "name": "stdout",
     "output_type": "stream",
     "text": [
      "Area of maximum rectangle is 8\n"
     ]
    }
   ],
   "source": [
    "A = [[0, 1, 1, 0],\n",
    "     [1, 1, 1, 1],\n",
    "     [1, 1, 1, 1],\n",
    "     [1, 1, 0, 0]]\n",
    "ans = Solution()\n",
    "\n",
    "print(\"Area of maximum rectangle is\",\n",
    "      ans.maxArea(A,4,4))"
   ]
  },
  {
   "cell_type": "code",
   "execution_count": null,
   "id": "9cdd1981",
   "metadata": {},
   "outputs": [],
   "source": []
  },
  {
   "cell_type": "code",
   "execution_count": 40,
   "id": "230e7a3f",
   "metadata": {},
   "outputs": [
    {
     "name": "stdout",
     "output_type": "stream",
     "text": [
      "4\n",
      "3\n",
      "2\n"
     ]
    }
   ],
   "source": [
    "for i in range(4,1,-1):\n",
    "    print(i)"
   ]
  },
  {
   "cell_type": "code",
   "execution_count": null,
   "id": "f0d62432",
   "metadata": {},
   "outputs": [],
   "source": []
  }
 ],
 "metadata": {
  "kernelspec": {
   "display_name": "Python 3",
   "language": "python",
   "name": "python3"
  },
  "language_info": {
   "codemirror_mode": {
    "name": "ipython",
    "version": 3
   },
   "file_extension": ".py",
   "mimetype": "text/x-python",
   "name": "python",
   "nbconvert_exporter": "python",
   "pygments_lexer": "ipython3",
   "version": "3.8.8"
  }
 },
 "nbformat": 4,
 "nbformat_minor": 5
}
