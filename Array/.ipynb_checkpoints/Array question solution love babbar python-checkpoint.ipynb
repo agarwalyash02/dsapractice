{
 "cells": [
  {
   "cell_type": "code",
   "execution_count": 49,
   "id": "f9b47d56",
   "metadata": {},
   "outputs": [],
   "source": [
    "def findMinDiff(A,N,M):\n",
    "        # code here\n",
    "        if N<M:\n",
    "            return 0\n",
    "        A.sort()\n",
    "        gmin = A[M-1] - A[0]\n",
    "        for i in range(M,N):\n",
    "            gmin = min(gmin,A[i] - A[i + 1 - M])\n",
    "        return gmin"
   ]
  },
  {
   "cell_type": "code",
   "execution_count": 50,
   "id": "5d2e7f04",
   "metadata": {},
   "outputs": [
    {
     "name": "stdout",
     "output_type": "stream",
     "text": [
      "8   5\n",
      "6   6\n",
      "6   7\n",
      "6\n"
     ]
    },
    {
     "data": {
      "text/plain": [
       "6"
      ]
     },
     "execution_count": 50,
     "metadata": {},
     "output_type": "execute_result"
    }
   ],
   "source": [
    "A = [3, 4, 1, 9, 56, 7, 9, 12]\n",
    "N = len(A)\n",
    "M = 5\n",
    "findMinDiff(A,N,M)"
   ]
  },
  {
   "cell_type": "code",
   "execution_count": 45,
   "id": "e8af813f",
   "metadata": {},
   "outputs": [],
   "source": [
    "A.sort()"
   ]
  },
  {
   "cell_type": "code",
   "execution_count": 46,
   "id": "70575de6",
   "metadata": {},
   "outputs": [
    {
     "data": {
      "text/plain": [
       "[1, 3, 4, 7, 9, 9, 12, 56]"
      ]
     },
     "execution_count": 46,
     "metadata": {},
     "output_type": "execute_result"
    }
   ],
   "source": [
    "A"
   ]
  },
  {
   "cell_type": "code",
   "execution_count": 37,
   "id": "53e34dd2",
   "metadata": {},
   "outputs": [],
   "source": [
    "def find3Numbers(A, n, X):\n",
    "    # Your Code Here\n",
    "    if n<3:\n",
    "        return 0\n",
    "    A.sort()\n",
    "    ans = 0\n",
    "    for i in range(n-2):\n",
    "        l = i+1\n",
    "        r = n-1\n",
    "        while(l<r):\n",
    "            if ((A[i] + A[l] + A[r]) == X):\n",
    "                ans = 1\n",
    "                break\n",
    "            elif (A[i] + A[l] + A[r] < X):\n",
    "                l+=1\n",
    "            else:\n",
    "                r-=1\n",
    "        if ans == 1:\n",
    "            break\n",
    "    return ans"
   ]
  },
  {
   "cell_type": "code",
   "execution_count": 38,
   "id": "28684331",
   "metadata": {},
   "outputs": [
    {
     "data": {
      "text/plain": [
       "1"
      ]
     },
     "execution_count": 38,
     "metadata": {},
     "output_type": "execute_result"
    }
   ],
   "source": [
    "arr= [1,4,45,6,10,8]\n",
    "n = len(arr)\n",
    "X = 13\n",
    "find3Numbers(arr,n,X)"
   ]
  },
  {
   "cell_type": "code",
   "execution_count": null,
   "id": "ccbcfc31",
   "metadata": {},
   "outputs": [],
   "source": []
  },
  {
   "cell_type": "code",
   "execution_count": 291,
   "id": "f8227445",
   "metadata": {},
   "outputs": [],
   "source": [
    "del f"
   ]
  },
  {
   "cell_type": "code",
   "execution_count": 292,
   "id": "58057f64",
   "metadata": {},
   "outputs": [],
   "source": [
    "arr = [1,0,5,6,7,2]"
   ]
  },
  {
   "cell_type": "code",
   "execution_count": 293,
   "id": "3101ba6b",
   "metadata": {},
   "outputs": [],
   "source": [
    "from timeit import default_timer as timer"
   ]
  },
  {
   "cell_type": "code",
   "execution_count": 294,
   "id": "2d0f4ab5",
   "metadata": {},
   "outputs": [
    {
     "name": "stdout",
     "output_type": "stream",
     "text": [
      "9.159999899566174e-05\n"
     ]
    }
   ],
   "source": [
    "start = timer()     \n",
    "s = set()\n",
    "for i in arr:\n",
    "    s.add(i)\n",
    "end = timer()\n",
    "print(str(end - start))"
   ]
  },
  {
   "cell_type": "code",
   "execution_count": 295,
   "id": "0b14e930",
   "metadata": {},
   "outputs": [
    {
     "name": "stdout",
     "output_type": "stream",
     "text": [
      "4.459999763639644e-05\n"
     ]
    }
   ],
   "source": [
    "start = timer()  \n",
    "s\n",
    "end = timer()\n",
    "print(str(end - start))"
   ]
  },
  {
   "cell_type": "code",
   "execution_count": 296,
   "id": "25df8768",
   "metadata": {},
   "outputs": [
    {
     "name": "stdout",
     "output_type": "stream",
     "text": [
      "8.800000068731606e-05\n"
     ]
    }
   ],
   "source": [
    "start = timer()  \n",
    "1 in s\n",
    "end = timer()\n",
    "print(str(end - start))"
   ]
  },
  {
   "cell_type": "code",
   "execution_count": 297,
   "id": "47f66fcf",
   "metadata": {},
   "outputs": [
    {
     "name": "stdout",
     "output_type": "stream",
     "text": [
      "8.659999730298296e-05\n"
     ]
    }
   ],
   "source": [
    "start = timer()     \n",
    "f = dict()\n",
    "for i in arr:\n",
    "    f[i] = 1\n",
    "end = timer()\n",
    "print(str(end - start))"
   ]
  },
  {
   "cell_type": "code",
   "execution_count": 298,
   "id": "44ee2cfe",
   "metadata": {},
   "outputs": [
    {
     "name": "stdout",
     "output_type": "stream",
     "text": [
      "4.4200001866556704e-05\n"
     ]
    }
   ],
   "source": [
    "start = timer()  \n",
    "f\n",
    "end = timer()\n",
    "print(str(end - start))"
   ]
  },
  {
   "cell_type": "code",
   "execution_count": 299,
   "id": "11bce669",
   "metadata": {},
   "outputs": [
    {
     "name": "stdout",
     "output_type": "stream",
     "text": [
      "4.900000203633681e-05\n"
     ]
    }
   ],
   "source": [
    "start = timer()  \n",
    "1 in f\n",
    "end = timer()\n",
    "print(str(end - start))"
   ]
  },
  {
   "cell_type": "code",
   "execution_count": null,
   "id": "dd3f6971",
   "metadata": {},
   "outputs": [],
   "source": [
    "class Solution:\n",
    "    def swap(self,arr, a, b): \n",
    "        temp = arr[a] \n",
    "        arr[a] = arr[b] \n",
    "        arr[b] = temp \n",
    "      \n",
    "    def randomPartition(self,arr, l, r): \n",
    "        n = r - l + 1\n",
    "        pivot = int(random.random() % n)  \n",
    "        self.swap(arr, l + pivot, r)  \n",
    "        return self.partition(arr, l, r) \n",
    "    def kthSmallest(self,arr, l, r, k): \n",
    "        if (k > 0 and k <= r - l + 1): \n",
    "              \n",
    "            pos = self.randomPartition(arr, l, r)  \n",
    "            if (pos - l == k - 1):  \n",
    "                return arr[pos]  \n",
    "            if (pos - l > k - 1):  \n",
    "                                 \n",
    "                return self.kthSmallest(arr, l, pos - 1, k)  \n",
    "      \n",
    "            \n",
    "            return self.kthSmallest(arr, pos + 1, r,  \n",
    "                               k - pos + l - 1) \n",
    "      \n",
    "        return 999999999999\n",
    "      \n",
    "    def partition(self,arr, l, r): \n",
    "        x = arr[r] \n",
    "        i = l \n",
    "        for j in range(l, r): \n",
    "            if (arr[j] <= x): \n",
    "                self.swap(arr, i, j)  \n",
    "                i += 1\n",
    "        self.swap(arr, i, r)  \n",
    "        return i "
   ]
  },
  {
   "cell_type": "markdown",
   "id": "48d76c94",
   "metadata": {},
   "source": [
    "### Question 1"
   ]
  },
  {
   "cell_type": "code",
   "execution_count": 7,
   "id": "eb8e7939",
   "metadata": {},
   "outputs": [],
   "source": [
    "def reverse(arr):\n",
    "    end = len(arr)-1\n",
    "    start = 0\n",
    "    while start<end:\n",
    "        arr[start],arr[end] = arr[end],arr[start]\n",
    "        start+=1\n",
    "        end-=1"
   ]
  },
  {
   "cell_type": "code",
   "execution_count": 8,
   "id": "c72ed520",
   "metadata": {},
   "outputs": [
    {
     "name": "stdout",
     "output_type": "stream",
     "text": [
      "[1, 2, 3, 4, 5, 6]\n",
      "Reversed list is\n",
      "[6, 5, 4, 3, 2, 1]\n"
     ]
    }
   ],
   "source": [
    "A = [1, 2, 3, 4, 5, 6]\n",
    "print(A)\n",
    "reverse(A)\n",
    "print(\"Reversed list is\")\n",
    "print(A)"
   ]
  },
  {
   "cell_type": "markdown",
   "id": "b5f80039",
   "metadata": {},
   "source": [
    "### Question 2"
   ]
  },
  {
   "cell_type": "code",
   "execution_count": 10,
   "id": "686371e2",
   "metadata": {},
   "outputs": [],
   "source": [
    "def get_min(arr):\n",
    "    start = 0\n",
    "    end = len(arr)-1\n",
    "    mina = arr[0]\n",
    "    maxa = arr[0]\n",
    "    if end == start:\n",
    "        return (arr[0],arr[0])\n",
    "    \n",
    "    if arr[0]>arr[1]:\n",
    "        mina = arr[1]\n",
    "        maxa = arr[0]\n",
    "    else:\n",
    "        mina = arr[0]\n",
    "        maxa = arr[1]\n",
    "    for i in arr:\n",
    "        if i<mina:\n",
    "            mina = i\n",
    "        elif i>maxa:\n",
    "            maxa = i\n",
    "    return (mina,maxa)"
   ]
  },
  {
   "cell_type": "code",
   "execution_count": 12,
   "id": "7a042d21",
   "metadata": {},
   "outputs": [
    {
     "name": "stdout",
     "output_type": "stream",
     "text": [
      "Minimum element is 1\n",
      "Maximum element is 3000\n"
     ]
    }
   ],
   "source": [
    "arr = [1000, 11, 445, 1, 330, 3000]\n",
    "mina,maxa = get_min(arr)\n",
    "print(\"Minimum element is\", mina)\n",
    "print(\"Maximum element is\", maxa)"
   ]
  },
  {
   "cell_type": "markdown",
   "id": "04b7603a",
   "metadata": {},
   "source": [
    "### Question 3"
   ]
  },
  {
   "cell_type": "code",
   "execution_count": 18,
   "id": "953b4b6f",
   "metadata": {},
   "outputs": [],
   "source": [
    "matrix = [[1,2,3],[4,5,6]]"
   ]
  },
  {
   "cell_type": "code",
   "execution_count": 21,
   "id": "ac5eb6ba",
   "metadata": {},
   "outputs": [
    {
     "data": {
      "text/plain": [
       "3"
      ]
     },
     "execution_count": 21,
     "metadata": {},
     "output_type": "execute_result"
    }
   ],
   "source": [
    "len(matrix[0])"
   ]
  },
  {
   "cell_type": "code",
   "execution_count": 22,
   "id": "79a3b343",
   "metadata": {},
   "outputs": [
    {
     "name": "stdout",
     "output_type": "stream",
     "text": [
      "0\n",
      "1\n",
      "2\n"
     ]
    }
   ],
   "source": [
    "for i in range(3):\n",
    "    print(i)"
   ]
  },
  {
   "cell_type": "markdown",
   "id": "9964cbed",
   "metadata": {},
   "source": [
    "### Question 4"
   ]
  },
  {
   "cell_type": "code",
   "execution_count": 1,
   "id": "5e8dca98",
   "metadata": {},
   "outputs": [],
   "source": [
    "class Solution:\n",
    "    def sort012(self,arr,n):\n",
    "        if n <=1:\n",
    "            return\n",
    "        \n",
    "        left = 0\n",
    "        mid = 0\n",
    "        right = n-1\n",
    "        \n",
    "        while(mid<=right):\n",
    "            if arr[mid] == 0:\n",
    "                arr[mid],arr[left] = arr[left],arr[mid]\n",
    "                left+=1\n",
    "                mid+=1\n",
    "            elif arr[mid] == 1:\n",
    "                mid+=1\n",
    "            else:\n",
    "                arr[mid],arr[right] = arr[right],arr[mid]\n",
    "                right-=1"
   ]
  },
  {
   "cell_type": "markdown",
   "id": "86c2fa94",
   "metadata": {},
   "source": [
    "### Question 5"
   ]
  },
  {
   "cell_type": "code",
   "execution_count": 4,
   "id": "0da32037",
   "metadata": {},
   "outputs": [],
   "source": [
    "def shift_arr(arr):\n",
    "    n = len(arr)\n",
    "    left = 0\n",
    "    right = n-1\n",
    "    while(left<=right):\n",
    "        if arr[left]<0 and arr[right]<0:\n",
    "            left+=1\n",
    "        elif arr[left]>0 and arr[right]<0:\n",
    "            arr[left],arr[right] = arr[right],arr[left]\n",
    "            left+=1\n",
    "            right-=1\n",
    "        elif arr[left]>0 and arr[right]>0:\n",
    "            right-=1\n",
    "        else:\n",
    "            left+=1\n",
    "            right-=1            "
   ]
  },
  {
   "cell_type": "code",
   "execution_count": 6,
   "id": "73902104",
   "metadata": {},
   "outputs": [
    {
     "data": {
      "text/plain": [
       "[-12, -3, 0, -13, -5, -7, 6, 5, 11, 11]"
      ]
     },
     "execution_count": 6,
     "metadata": {},
     "output_type": "execute_result"
    }
   ],
   "source": [
    "arr=[-12, 11,0, -13, -5,6, -7, 5, -3, 11]\n",
    "shift_arr(arr)\n",
    "arr"
   ]
  },
  {
   "cell_type": "markdown",
   "id": "ce0c3b7a",
   "metadata": {},
   "source": [
    "### Question 7"
   ]
  },
  {
   "cell_type": "code",
   "execution_count": 7,
   "id": "5d3fb27d",
   "metadata": {},
   "outputs": [],
   "source": [
    "def rotate( arr, n):\n",
    "    temp = arr[n-1]\n",
    "    for i in range(n-1,0,-1):\n",
    "        arr[i] = arr[i-1]\n",
    "    arr[0] = temp"
   ]
  },
  {
   "cell_type": "markdown",
   "id": "2ef28410",
   "metadata": {},
   "source": [
    "### Question 10"
   ]
  },
  {
   "cell_type": "code",
   "execution_count": 22,
   "id": "0af47fd0",
   "metadata": {},
   "outputs": [],
   "source": [
    "# https://www.youtube.com/watch?v=5Du2iSRrbEw&list=TLPQMjQwNjIwMjEmds7P8MfFgw&index=5&ab_channel=FriendlyDeveloper\n",
    "#User function Template for python3\n",
    "class Solution:\n",
    "\tdef minJumps(self, arr, n):\n",
    "\t    if (arr[0] == 0):\n",
    "\t        return -1\n",
    "\t    maxR = arr[0]\n",
    "\t    steps = arr[0]\n",
    "\t    jump = 1\n",
    "\t    \n",
    "\t    #for i in range(1,n-1):    # We can use this also and at last return statemenet\n",
    "\t    for i in range(1,n):\n",
    "\t        if i == n-1:\n",
    "\t            return jump\n",
    "\t        maxR = max(maxR,i+arr[i])\n",
    "\t        steps-=1\n",
    "\t        \n",
    "\t        if steps == 0:\n",
    "\t            jump+=1\n",
    "\t            if i>=maxR:\n",
    "\t                return -1\n",
    "\t            steps = maxR-i\n",
    "\t    #return jump"
   ]
  },
  {
   "cell_type": "markdown",
   "id": "fea3fa2f",
   "metadata": {},
   "source": [
    "### Question 12"
   ]
  },
  {
   "cell_type": "code",
   "execution_count": 30,
   "id": "9ffa4fbd",
   "metadata": {},
   "outputs": [],
   "source": [
    "class Solution:\n",
    "    def merge(self, arr1, arr2, n, m): \n",
    "        # code here\n",
    "        i = n-1\n",
    "        j = 0\n",
    "        while(i>=0 and j<m):\n",
    "            if arr1[i]>arr2[j]:\n",
    "                arr1[i],arr2[j] = arr2[j],arr1[i]\n",
    "                i-=1\n",
    "                j+=1\n",
    "            else:\n",
    "                break\n",
    "        arr1.sort()\n",
    "        arr2.sort()"
   ]
  },
  {
   "cell_type": "markdown",
   "id": "011a0431",
   "metadata": {},
   "source": [
    "### Question 13"
   ]
  },
  {
   "cell_type": "code",
   "execution_count": 3,
   "id": "692de86a",
   "metadata": {},
   "outputs": [],
   "source": [
    "# https://www.youtube.com/watch?v=86CQq3pKSUw&ab_channel=CSDojo\n",
    "class Solution:\n",
    "    ##Complete this function\n",
    "    #Function to find the sum of contiguous subarray with maximum sum.\n",
    "    def maxSubArraySum(self,a,size):\n",
    "        \n",
    "        curr = a[0]\n",
    "        maxs = a[0]\n",
    "        for i in range(1,size):\n",
    "            curr = max(a[i],curr + a[i])\n",
    "            if curr > maxs:\n",
    "                maxs = curr\n",
    "        return maxs"
   ]
  },
  {
   "cell_type": "markdown",
   "id": "ca052c07",
   "metadata": {},
   "source": [
    "### Question 14"
   ]
  },
  {
   "cell_type": "code",
   "execution_count": 30,
   "id": "38abfc94",
   "metadata": {},
   "outputs": [],
   "source": [
    "class Solution:\n",
    "    def merge(self, intervals):\n",
    "        intervals.sort()\n",
    "        n = len(intervals)\n",
    "        if n == 1:\n",
    "            return intervals\n",
    "        mincurr = intervals[0][0]\n",
    "        maxcurr = intervals[0][1]\n",
    "        l = []\n",
    "        for i in range(1,n):\n",
    "            if intervals[i][0] <= maxcurr:\n",
    "                maxcurr = max(maxcurr,intervals[i][1])\n",
    "            else:\n",
    "                l.append([mincurr,maxcurr])\n",
    "                mincurr = intervals[i][0]\n",
    "                maxcurr = intervals[i][1]\n",
    "            if i == n-1:\n",
    "                l.append([mincurr,maxcurr])\n",
    "        return l"
   ]
  },
  {
   "cell_type": "markdown",
   "id": "71b76f4b",
   "metadata": {},
   "source": [
    "### Question 15"
   ]
  },
  {
   "cell_type": "code",
   "execution_count": 33,
   "id": "69e1708c",
   "metadata": {},
   "outputs": [],
   "source": [
    "# https://www.youtube.com/watch?v=LuLCLgMElus&ab_channel=takeUforward\n",
    "class Solution:\n",
    "    def Reverse(self,lst):\n",
    "        lst.reverse()\n",
    "        return lst\n",
    "    def nextPermutation(self, nums) -> None:\n",
    "        \"\"\"\n",
    "        Do not return anything, modify nums in-place instead.\n",
    "        \"\"\"\n",
    "        n = len(nums)\n",
    "        if n<=1:\n",
    "            return\n",
    "        i = n-2\n",
    "        j = 0\n",
    "        while(i>=0 and nums[i] >= nums[i+1]):\n",
    "            i-=1\n",
    "        if i>=0:\n",
    "            j = n-1\n",
    "            while(nums[j]<=nums[i]):\n",
    "                j-=1\n",
    "            nums[j],nums[i] = nums[i],nums[j]\n",
    "        nums[i+1:] = self.Reverse(nums[i+1:])"
   ]
  },
  {
   "cell_type": "markdown",
   "id": "01343ab8",
   "metadata": {},
   "source": [
    "### Question 16"
   ]
  },
  {
   "cell_type": "code",
   "execution_count": 2,
   "id": "7b8546c8",
   "metadata": {},
   "outputs": [],
   "source": [
    "class Solution:\n",
    "    #User function Template for python3\n",
    "    \n",
    "    # arr[]: Input Array\n",
    "    # N : Size of the Array arr[]\n",
    "    #Function to count inversions in the array.\n",
    "    def merge(self,arr,temp,left,right,mid):\n",
    "        inv = 0\n",
    "        i = left\n",
    "        j = mid\n",
    "        k = left\n",
    "        while(i<=mid-1 and j<=right):\n",
    "            if arr[i] <= arr[j]:\n",
    "                temp[k] = arr[i]\n",
    "                k+=1\n",
    "                i+=1\n",
    "            else:\n",
    "                temp[k] = arr[j]\n",
    "                k+=1\n",
    "                j+=1\n",
    "                inv += (mid - i)\n",
    "        while(i<=mid-1):\n",
    "            temp[k] = arr[i]\n",
    "            k+=1\n",
    "            i+=1\n",
    "        while(j<=right):\n",
    "            temp[k] = arr[j]\n",
    "            k+=1\n",
    "            j+=1\n",
    "        for i in range(left,right+1):\n",
    "            arr[i] = temp[i]\n",
    "        return inv\n",
    "    def mergesort(self,arr,temp,left,right):\n",
    "        inv = 0\n",
    "        if right>left:\n",
    "            mid = (right+left)//2\n",
    "            inv+=self.mergesort(arr,temp,left,mid)\n",
    "            inv+=self.mergesort(arr,temp,mid+1,right)\n",
    "            \n",
    "            inv+=self.merge(arr,temp,left,right,mid+1)\n",
    "        return inv\n",
    "            \n",
    "    def inversionCount(self, arr, n):\n",
    "        # Your Code Here\n",
    "        temp = [-1]*n\n",
    "        left = 0\n",
    "        right = n-1\n",
    "        return self.mergesort(arr,temp,left,right)"
   ]
  },
  {
   "cell_type": "markdown",
   "id": "aed22c82",
   "metadata": {},
   "source": [
    "### Question 17"
   ]
  },
  {
   "cell_type": "code",
   "execution_count": 32,
   "id": "fe1e0399",
   "metadata": {},
   "outputs": [],
   "source": [
    "class Solution:\n",
    "    def maxProfit(self, prices) -> int:\n",
    "        n = len(prices)\n",
    "        if n == 1:\n",
    "            return 0\n",
    "        mincurr = prices[0]\n",
    "        profit = 0\n",
    "        for i in range(1,n):\n",
    "            mincurr = min(mincurr,prices[i])\n",
    "            profit = max(profit,prices[i] - mincurr)\n",
    "        return profit"
   ]
  },
  {
   "cell_type": "markdown",
   "id": "c9c68131",
   "metadata": {},
   "source": [
    "### Question 18"
   ]
  },
  {
   "cell_type": "code",
   "execution_count": 174,
   "id": "5db723de",
   "metadata": {},
   "outputs": [],
   "source": [
    "# https://www.youtube.com/watch?v=Tqa9pilFrhY&ab_channel=DhruvGoyal\n",
    "class Solution:\n",
    "    def getPairsCount(self, arr, n, k):\n",
    "        # code here\n",
    "        elements_frq= dict()\n",
    "        for i in arr:\n",
    "            if elements_frq.get(i):\n",
    "                elements_frq[i] +=1\n",
    "            else:\n",
    "                elements_frq[i] = 1\n",
    "        count = 0  \n",
    "        for i in arr:\n",
    "            if 2*i == k:\n",
    "                count+=elements_frq.get(k-i) - 1\n",
    "            elif elements_frq.get(k-i):\n",
    "                count+=elements_frq.get(k-i)\n",
    "        return count//2"
   ]
  },
  {
   "cell_type": "markdown",
   "id": "b3ed734a",
   "metadata": {},
   "source": [
    "### Question 19"
   ]
  },
  {
   "cell_type": "code",
   "execution_count": 172,
   "id": "aefc3e28",
   "metadata": {},
   "outputs": [],
   "source": [
    "# https://www.youtube.com/watch?v=ajWCEu1razQ&ab_channel=CodeLibrary\n",
    "class Solution:\n",
    "    def commonElements (self,A, B, C, n1, n2, n3):\n",
    "        # your code here\n",
    "        i = 0\n",
    "        j = 0\n",
    "        k = 0\n",
    "        l = list()\n",
    "        while(i<n1 and j<n2 and k<n3):\n",
    "            if A[i] == B[j] and B[j] == C[k]:\n",
    "                l.append(A[i])\n",
    "                i+=1\n",
    "                j+=1\n",
    "                k+=1\n",
    "            elif A[i]<B[j]:\n",
    "                i+=1\n",
    "            elif B[j]<C[k]:\n",
    "                j+=1\n",
    "            else:\n",
    "                k+=1\n",
    "            if i!=0:\n",
    "                xx = A[i-1]\n",
    "                while(i<n1 and A[i] == xx):\n",
    "                    i+=1\n",
    "            if j!=0:\n",
    "                yy = B[j-1]\n",
    "                while(j<n2 and B[j] == yy):\n",
    "                    j+=1\n",
    "            if k!=0:\n",
    "                zz = C[k-1]\n",
    "                while(k<n3 and C[k] == zz):\n",
    "                    k+=1\n",
    "        return l"
   ]
  },
  {
   "cell_type": "markdown",
   "id": "13edddd7",
   "metadata": {},
   "source": [
    "### Question 21"
   ]
  },
  {
   "cell_type": "code",
   "execution_count": 301,
   "id": "db180a58",
   "metadata": {},
   "outputs": [],
   "source": [
    "# https://www.youtube.com/watch?v=QtbFXZrEZYc&ab_channel=CodeLibrary\n",
    "class Solution:\n",
    "    \n",
    "    #Function to check whether there is a subarray present with 0-sum or not.\n",
    "    def subArrayExists(self,arr,n):\n",
    "        ##Your code here\n",
    "        #Return true or false\n",
    "        s = 0\n",
    "        f = 0\n",
    "        frq = set()\n",
    "        for i in arr:\n",
    "            s = s + i\n",
    "            if (i == 0) or (s in frq) or (s == 0):\n",
    "                f = 1\n",
    "                break\n",
    "            else:\n",
    "                frq.add(s)\n",
    "            \n",
    "        if f == 1:\n",
    "            return True\n",
    "        return False"
   ]
  },
  {
   "cell_type": "markdown",
   "id": "2bde9799",
   "metadata": {},
   "source": [
    "### Question 22"
   ]
  },
  {
   "cell_type": "code",
   "execution_count": 63,
   "id": "8a696dbf",
   "metadata": {},
   "outputs": [],
   "source": [
    "# https://www.youtube.com/watch?v=VCfZOe1oJHU&ab_channel=DhruvGoyal\n",
    "class Solution:\n",
    "    def factorial(self, N):\n",
    "        arr = [1]\n",
    "        for i in range(2,N+1):\n",
    "            carry = 0\n",
    "            for j in range(len(arr)):\n",
    "                num = arr[j] * i + carry\n",
    "                arr[j] = num%10\n",
    "                carry = num//10\n",
    "            while(carry!=0):\n",
    "                arr.append(carry%10)\n",
    "                carry = carry//10\n",
    "        return arr[::-1]"
   ]
  },
  {
   "cell_type": "markdown",
   "id": "2ea95bb0",
   "metadata": {},
   "source": [
    "### Question 23"
   ]
  },
  {
   "cell_type": "code",
   "execution_count": 4,
   "id": "bab3e981",
   "metadata": {},
   "outputs": [],
   "source": [
    "# https://www.youtube.com/watch?v=lXVy6YWFcRM&ab_channel=NeetCode\n",
    "class Solution:\n",
    "    def maxProduct(self, nums) -> int:\n",
    "        # code here\n",
    "        gmax = max(nums)\n",
    "        mincurr = 1\n",
    "        maxcurr = 1\n",
    "        for i in nums:\n",
    "            if i == 0:\n",
    "                mincurr = 1\n",
    "                maxcurr = 1\n",
    "                continue\n",
    "            temp = maxcurr\n",
    "            maxcurr = max(i,i*maxcurr,i*mincurr)\n",
    "            mincurr = min(i,i*temp,i*mincurr)\n",
    "            gmax = max(maxcurr,gmax)\n",
    "        return gmax"
   ]
  },
  {
   "cell_type": "markdown",
   "id": "424abb6d",
   "metadata": {},
   "source": [
    "### Question 24"
   ]
  },
  {
   "cell_type": "code",
   "execution_count": 29,
   "id": "12ac354f",
   "metadata": {},
   "outputs": [],
   "source": [
    "# https://www.youtube.com/watch?v=qgizvmgeyUM\n",
    "class Solution:\n",
    "    \n",
    "    # arr[] : the input array\n",
    "    # N : size of the array arr[]\n",
    "    \n",
    "    #Function to return length of longest subsequence of consecutive integers.\n",
    "    def findLongestConseqSubseq(self,arr, N):\n",
    "        #code here\n",
    "        setr = set()\n",
    "        for i in arr:\n",
    "            setr.add(i)\n",
    "        maxl = 1\n",
    "        for i in setr:\n",
    "            curr = 1\n",
    "            if i-1 not in setr:\n",
    "                j = i\n",
    "                while(j+1 in setr):\n",
    "                    curr+=1\n",
    "                    j+=1\n",
    "            maxl = max(maxl,curr)\n",
    "        return maxl "
   ]
  },
  {
   "cell_type": "markdown",
   "id": "3cd29dac",
   "metadata": {},
   "source": [
    "### Question 25"
   ]
  },
  {
   "cell_type": "code",
   "execution_count": 6,
   "id": "caf6bfb5",
   "metadata": {},
   "outputs": [],
   "source": [
    "def morethanNbyK(arr,n,k):\n",
    "    x = n//k\n",
    "    print(x)\n",
    "    frq = dict()\n",
    "    for i in arr:\n",
    "        if i in frq:\n",
    "            frq[i]+=1\n",
    "        else:\n",
    "            frq[i] = 1\n",
    "    for i in frq:\n",
    "        if frq[i] > x:\n",
    "            print(i)"
   ]
  },
  {
   "cell_type": "code",
   "execution_count": 9,
   "id": "ae8b22ca",
   "metadata": {},
   "outputs": [
    {
     "name": "stdout",
     "output_type": "stream",
     "text": [
      "19\n",
      "4\n",
      "6\n",
      "1\n"
     ]
    }
   ],
   "source": [
    "arr = [ 6,1, 1, 2, 2, 3, 5, 4, 2, 2, 3, 1, 1, 1,6,10 ,6,6,6,]\n",
    "n = len(arr)\n",
    "print(n)\n",
    "k = 4\n",
    "morethanNbyK(arr, n, k)"
   ]
  },
  {
   "cell_type": "markdown",
   "id": "3be2e7d4",
   "metadata": {},
   "source": [
    "### Question 26"
   ]
  },
  {
   "cell_type": "code",
   "execution_count": 20,
   "id": "d96f2901",
   "metadata": {},
   "outputs": [],
   "source": [
    "class Solution:\n",
    "    def maxProfit(self, prices) -> int:\n",
    "        n = len(prices)\n",
    "        if n == 1:\n",
    "            return 0\n",
    "        left = [-1]*n\n",
    "        right = [-1]*n\n",
    "        left[0] = 0\n",
    "        right[n-1] = 0\n",
    "        leftmin = prices[0]\n",
    "        rightmax = prices[n-1]\n",
    "        for i in range(1,n-1):\n",
    "            index = n-i-1\n",
    "            \n",
    "            # for left\n",
    "            left[i] = max(left[i-1],prices[i]-leftmin)\n",
    "            if leftmin>prices[i]:\n",
    "                leftmin = prices[i]\n",
    "            \n",
    "            # for right\n",
    "            right[index] = max(right[index+1],rightmax-prices[index])\n",
    "            if prices[index]>rightmax:\n",
    "                rightmax = prices[index]\n",
    "                \n",
    "        left[n-1] = max(left[n-2],prices[n-1]-leftmin)\n",
    "        right[0] = max(right[1],rightmax-prices[0])\n",
    "        \n",
    "        profit = right[0]\n",
    "        for i in range(1,n-1):\n",
    "            profit = max(profit,left[i-1]+right[i])\n",
    "        profit = max(profit,left[n-1])\n",
    "                \n",
    "        return profit"
   ]
  },
  {
   "cell_type": "code",
   "execution_count": 18,
   "id": "0d044bfe",
   "metadata": {},
   "outputs": [
    {
     "data": {
      "text/plain": [
       "6"
      ]
     },
     "execution_count": 18,
     "metadata": {},
     "output_type": "execute_result"
    }
   ],
   "source": [
    "prices = [3,3,5,0,0,3,1,4]\n",
    "o1 = Solution()\n",
    "o1.maxProfit(prices)"
   ]
  },
  {
   "cell_type": "markdown",
   "id": "870aa254",
   "metadata": {},
   "source": [
    "### Question 27"
   ]
  },
  {
   "cell_type": "code",
   "execution_count": 39,
   "id": "fc5754af",
   "metadata": {},
   "outputs": [],
   "source": [
    "def isSubset( a1, a2, n, m):\n",
    "    s = set()\n",
    "    for i in a1:\n",
    "        s.add(i)\n",
    "        \n",
    "    for i in a2:\n",
    "        if i not in s:\n",
    "            return \"No\"\n",
    "    return \"Yes\""
   ]
  },
  {
   "cell_type": "markdown",
   "id": "9deefc66",
   "metadata": {},
   "source": [
    "### Question 28"
   ]
  },
  {
   "cell_type": "code",
   "execution_count": null,
   "id": "636b1f32",
   "metadata": {},
   "outputs": [],
   "source": [
    "# https://www.youtube.com/watch?v=PiId4tgzcho&ab_channel=CodeLibrary\n",
    "class Solution:\n",
    "     \n",
    "    #Function to find if there exists a triplet in the \n",
    "    #array A[] which sums up to X.\n",
    "    def find3Numbers(self,A, n, X):\n",
    "        # Your Code Here\n",
    "        if n<3:\n",
    "            return 0\n",
    "        A.sort()\n",
    "        ans = 0\n",
    "        for i in range(n-2):\n",
    "            l = i+1\n",
    "            r = n-1\n",
    "            \n",
    "            while(l<r):\n",
    "                if (A[i] + A[l] + A[r] == X):\n",
    "                    ans = 1\n",
    "                    break\n",
    "                elif (A[i] + A[l] + A[r] < X):\n",
    "                    l+=1\n",
    "                else:\n",
    "                    r-=1\n",
    "            if ans == 1:\n",
    "                break\n",
    "        return ans"
   ]
  },
  {
   "cell_type": "markdown",
   "id": "2beacfe5",
   "metadata": {},
   "source": [
    "### Question 29"
   ]
  },
  {
   "cell_type": "code",
   "execution_count": 4,
   "id": "48ed90ab",
   "metadata": {},
   "outputs": [],
   "source": [
    "class Solution:\n",
    "    def trappingWater(self, arr,n):\n",
    "        if n <= 2:\n",
    "            return 0\n",
    "        left = 1\n",
    "        right = n-2\n",
    "        maxleft = arr[0]\n",
    "        maxright = arr[n-1]\n",
    "        trapped = 0\n",
    "        while(left<=right):\n",
    "            if maxleft < maxright:\n",
    "                if arr[left]>maxleft:\n",
    "                    maxleft = arr[left]\n",
    "                else:\n",
    "                    trapped+=maxleft - arr[left]\n",
    "                left+=1\n",
    "            else:\n",
    "                if arr[right]>maxright:\n",
    "                    maxright = arr[right]\n",
    "                else:\n",
    "                    trapped += maxright - arr[right]\n",
    "                right-=1\n",
    "        return trapped  "
   ]
  },
  {
   "cell_type": "markdown",
   "id": "78bc5bc2",
   "metadata": {},
   "source": [
    "### Question 30"
   ]
  },
  {
   "cell_type": "code",
   "execution_count": 51,
   "id": "c85e688e",
   "metadata": {},
   "outputs": [],
   "source": [
    "class Solution:\n",
    "\n",
    "    def findMinDiff(self, A,N,M):\n",
    "        # code here\n",
    "        if N<M:\n",
    "            return 0\n",
    "        A.sort()\n",
    "        gmin = A[M-1] - A[0]\n",
    "        for i in range(M,N):\n",
    "            gmin = min(gmin,A[i] - A[i + 1 - M])\n",
    "        return gmin"
   ]
  },
  {
   "cell_type": "markdown",
   "id": "47de8dcf",
   "metadata": {},
   "source": [
    "### Question 31"
   ]
  },
  {
   "cell_type": "code",
   "execution_count": null,
   "id": "10ac65aa",
   "metadata": {},
   "outputs": [],
   "source": [
    "import sys\n",
    "class Solution:\n",
    "    def sb(self, a, n, x):\n",
    "        # Your code goes here \n",
    "        gmin = sys.maxsize\n",
    "        i = 0\n",
    "        j = 0\n",
    "        s = 0\n",
    "        while(i<=j and j<n):\n",
    "            while(s<=x and j<n):\n",
    "                s = s + a[j]\n",
    "                j+=1\n",
    "            while(s>x and i<j):\n",
    "                gmin = min(gmin,j-i)\n",
    "                s = s - a[i]\n",
    "                i+=1\n",
    "        return gmin"
   ]
  },
  {
   "cell_type": "markdown",
   "id": "48e9d3bb",
   "metadata": {},
   "source": [
    "### Question 32"
   ]
  },
  {
   "cell_type": "code",
   "execution_count": 15,
   "id": "40c8495b",
   "metadata": {},
   "outputs": [],
   "source": [
    "class Solution:\n",
    "    #Function to partition the array around the range such \n",
    "    #that array is divided into three parts.\n",
    "    def threeWayPartition(self, array, a, b):\n",
    "    i = 0\n",
    "    j = len(array)-1\n",
    "    while(i<j):\n",
    "        if array[i]<a:\n",
    "            i+=1\n",
    "        elif array[i]>=a and array[j]<a:\n",
    "            array[i],array[j] = array[j],array[i]\n",
    "            i+=1\n",
    "        elif array[i]>=a and array[j]>=a:\n",
    "            j-=1\n",
    "    j = len(array)-1\n",
    "    while(i<j):\n",
    "        if array[i]<b:\n",
    "            i+=1\n",
    "        elif array[i]>=b and array[j]<b:\n",
    "            array[i],array[j] = array[j],array[i]\n",
    "            i+=1\n",
    "            j-=1\n",
    "        elif array[i]>=b and array[j]>=b:\n",
    "            j-=1\n",
    "    return array\n"
   ]
  },
  {
   "cell_type": "markdown",
   "id": "1242be5a",
   "metadata": {},
   "source": [
    "### Question 33"
   ]
  },
  {
   "cell_type": "code",
   "execution_count": 20,
   "id": "8a5afc84",
   "metadata": {},
   "outputs": [],
   "source": [
    "# https://www.youtube.com/watch?v=DkOaYAfolnQ\n",
    "import sys\n",
    "def minSwap (arr, n, k) : \n",
    "    #Complete the function\n",
    "    good = 0\n",
    "    for i in arr:\n",
    "        if i <=k:\n",
    "            good+=1\n",
    "    bad = 0\n",
    "    minswap = sys.maxsize\n",
    "    for i in range(good):\n",
    "        if arr[i]>k:\n",
    "            bad+=1\n",
    "    i = 0\n",
    "    j = good-1\n",
    "    while(j<n):\n",
    "        minswap = min(minswap,bad)\n",
    "        j+=1\n",
    "        if j<n and arr[j]>k:\n",
    "            bad+=1\n",
    "        if j<n and arr[i]>k:\n",
    "            bad-=1\n",
    "        i+=1\n",
    "    return minswap\n"
   ]
  },
  {
   "cell_type": "markdown",
   "id": "d8058273",
   "metadata": {},
   "source": [
    "### Question 34"
   ]
  },
  {
   "cell_type": "code",
   "execution_count": 57,
   "id": "b542f6a4",
   "metadata": {},
   "outputs": [],
   "source": [
    "def findminops(arr):\n",
    "    n = len(arr)\n",
    "    ans = 0\n",
    "    i = 0\n",
    "    j = n-1\n",
    "    while(i<=j):\n",
    "        if arr[i] == arr[j]:\n",
    "            i+=1\n",
    "            j-=1\n",
    "        elif arr[i] > arr[j]:\n",
    "            j-=1\n",
    "            arr[j]+=arr[j+1]\n",
    "            ans+=1\n",
    "        else:\n",
    "            i+=1\n",
    "            arr[i]+=arr[i-1]\n",
    "            ans+=1\n",
    "    return ans"
   ]
  },
  {
   "cell_type": "code",
   "execution_count": 61,
   "id": "fa41b2f2",
   "metadata": {},
   "outputs": [
    {
     "name": "stdout",
     "output_type": "stream",
     "text": [
      "Count of minimum operations is 1\n"
     ]
    }
   ],
   "source": [
    "arr = [1, 4, 5, 9, 1]\n",
    "n = len(arr)\n",
    "print(\"Count of minimum operations is \" + str(findminops(arr)))"
   ]
  },
  {
   "cell_type": "markdown",
   "id": "517750c1",
   "metadata": {},
   "source": [
    "### Question 35"
   ]
  },
  {
   "cell_type": "code",
   "execution_count": 44,
   "id": "63ab34a8",
   "metadata": {},
   "outputs": [],
   "source": [
    "def getMedian(arr1,arr2,n):\n",
    "    if n==0:\n",
    "        return -1\n",
    "    elif n == 1:\n",
    "        return (arr1[0] + arr2[0])/2\n",
    "    \n",
    "    elif n==2:\n",
    "        return (max(arr1[0],arr2[0])+min(arr1[1],arr2[1]))/2\n",
    "    else:\n",
    "        m1 = median(arr1,n)\n",
    "        m2 = median(arr2,n)\n",
    "        \n",
    "        if(m1 == m2):\n",
    "            return m1\n",
    "        elif m1>m2:\n",
    "            if(n%2==0):\n",
    "                return getMedian(arr1[:int(n/2)+1],arr2[int(n/2)-1:],int(n/2)+1)\n",
    "            else:\n",
    "                return getMedian(arr1[:int(n/2)+1],arr2[int(n/2):],int(n/2)+1)\n",
    "        else:\n",
    "            if(n%2==0):\n",
    "                return getMedian(arr1[int(n/2)-1:],arr2[:int(n/2)+1],int(n/2)+1)\n",
    "            else:\n",
    "                return getMedian(arr1[int(n/2):],arr2[:int(n/2)+1],int(n/2)+1)\n",
    "        \n",
    "def median(arr,n):\n",
    "    if (n%2==0):\n",
    "        return (arr[int(n/2)] + arr[int(n/2) + 1])/2\n",
    "    else:\n",
    "        return (arr[int(n/2)])"
   ]
  },
  {
   "cell_type": "code",
   "execution_count": 45,
   "id": "9aad2adc",
   "metadata": {},
   "outputs": [
    {
     "name": "stdout",
     "output_type": "stream",
     "text": [
      "5\n"
     ]
    }
   ],
   "source": [
    "arr1 = [1, 2, 3, 6]\n",
    "arr2 = [4, 6, 8, 10]\n",
    "n = len(arr1)\n",
    "print(int(getMedian(arr1,arr2,n)))"
   ]
  },
  {
   "cell_type": "markdown",
   "id": "374088a6",
   "metadata": {},
   "source": [
    "### Question 36"
   ]
  },
  {
   "cell_type": "code",
   "execution_count": 82,
   "id": "ada1c80a",
   "metadata": {},
   "outputs": [],
   "source": [
    "# https://www.youtube.com/watch?v=NTop3VTjmxk&ab_channel=takeUforward\n",
    "import sys\n",
    "class Solution:\n",
    "    def findMedianSortedArrays(self, nums1, nums2) -> float:\n",
    "        if (len(nums1)>len(nums2)):\n",
    "            return self.findMedianSortedArrays(nums2,nums1)\n",
    "        n1 = len(nums1)\n",
    "        n2 = len(nums2)\n",
    "        low = 0\n",
    "        high = n1\n",
    "        while(low<=high):\n",
    "            cut1 = ((low+high)//2)\n",
    "            cut2 = ((n1 + n2 +1)//2) - cut1\n",
    "            \n",
    "            left1 = -sys.maxsize if cut1==0 else nums1[cut1-1]\n",
    "            left2 = -sys.maxsize if cut2==0 else nums2[cut2-1]\n",
    "            \n",
    "            right1 = nums1[cut1] if cut1!=n1 else sys.maxsize\n",
    "            right2 = nums2[cut2] if cut2!=n2 else sys.maxsize\n",
    "            \n",
    "            if (left1<=right2 and left2 <=right1):\n",
    "                if((n1+n2)%2 == 0):\n",
    "                    return (max(left1,left2) + min(right1,right2))/2\n",
    "                else:\n",
    "                    return max(left1,left2)\n",
    "            elif(left1>right2):\n",
    "                high = cut1-1\n",
    "            else:\n",
    "                low = cut1 + 1\n",
    "        return 0"
   ]
  },
  {
   "cell_type": "code",
   "execution_count": null,
   "id": "d187319e",
   "metadata": {},
   "outputs": [],
   "source": []
  }
 ],
 "metadata": {
  "kernelspec": {
   "display_name": "Python 3",
   "language": "python",
   "name": "python3"
  },
  "language_info": {
   "codemirror_mode": {
    "name": "ipython",
    "version": 3
   },
   "file_extension": ".py",
   "mimetype": "text/x-python",
   "name": "python",
   "nbconvert_exporter": "python",
   "pygments_lexer": "ipython3",
   "version": "3.8.8"
  }
 },
 "nbformat": 4,
 "nbformat_minor": 5
}
