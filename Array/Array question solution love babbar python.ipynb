{
 "cells": [
  {
   "cell_type": "markdown",
   "id": "48d76c94",
   "metadata": {},
   "source": [
    "### Question 1"
   ]
  },
  {
   "cell_type": "code",
   "execution_count": 7,
   "id": "eb8e7939",
   "metadata": {},
   "outputs": [],
   "source": [
    "def reverse(arr):\n",
    "    end = len(arr)-1\n",
    "    start = 0\n",
    "    while start<end:\n",
    "        arr[start],arr[end] = arr[end],arr[start]\n",
    "        start+=1\n",
    "        end-=1"
   ]
  },
  {
   "cell_type": "code",
   "execution_count": 8,
   "id": "c72ed520",
   "metadata": {},
   "outputs": [
    {
     "name": "stdout",
     "output_type": "stream",
     "text": [
      "[1, 2, 3, 4, 5, 6]\n",
      "Reversed list is\n",
      "[6, 5, 4, 3, 2, 1]\n"
     ]
    }
   ],
   "source": [
    "A = [1, 2, 3, 4, 5, 6]\n",
    "print(A)\n",
    "reverse(A)\n",
    "print(\"Reversed list is\")\n",
    "print(A)"
   ]
  },
  {
   "cell_type": "markdown",
   "id": "b5f80039",
   "metadata": {},
   "source": [
    "### Question 2"
   ]
  },
  {
   "cell_type": "code",
   "execution_count": 10,
   "id": "686371e2",
   "metadata": {},
   "outputs": [],
   "source": [
    "def get_min(arr):\n",
    "    start = 0\n",
    "    end = len(arr)-1\n",
    "    mina = arr[0]\n",
    "    maxa = arr[0]\n",
    "    if end == start:\n",
    "        return (arr[0],arr[0])\n",
    "    \n",
    "    if arr[0]>arr[1]:\n",
    "        mina = arr[1]\n",
    "        maxa = arr[0]\n",
    "    else:\n",
    "        mina = arr[0]\n",
    "        maxa = arr[1]\n",
    "    for i in arr:\n",
    "        if i<mina:\n",
    "            mina = i\n",
    "        elif i>maxa:\n",
    "            maxa = i\n",
    "    return (mina,maxa)"
   ]
  },
  {
   "cell_type": "code",
   "execution_count": 12,
   "id": "7a042d21",
   "metadata": {},
   "outputs": [
    {
     "name": "stdout",
     "output_type": "stream",
     "text": [
      "Minimum element is 1\n",
      "Maximum element is 3000\n"
     ]
    }
   ],
   "source": [
    "arr = [1000, 11, 445, 1, 330, 3000]\n",
    "mina,maxa = get_min(arr)\n",
    "print(\"Minimum element is\", mina)\n",
    "print(\"Maximum element is\", maxa)"
   ]
  },
  {
   "cell_type": "markdown",
   "id": "04b7603a",
   "metadata": {},
   "source": [
    "### Question 3"
   ]
  },
  {
   "cell_type": "code",
   "execution_count": 18,
   "id": "953b4b6f",
   "metadata": {},
   "outputs": [],
   "source": [
    "matrix = [[1,2,3],[4,5,6]]"
   ]
  },
  {
   "cell_type": "code",
   "execution_count": 21,
   "id": "ac5eb6ba",
   "metadata": {},
   "outputs": [
    {
     "data": {
      "text/plain": [
       "3"
      ]
     },
     "execution_count": 21,
     "metadata": {},
     "output_type": "execute_result"
    }
   ],
   "source": [
    "len(matrix[0])"
   ]
  },
  {
   "cell_type": "code",
   "execution_count": 22,
   "id": "79a3b343",
   "metadata": {},
   "outputs": [
    {
     "name": "stdout",
     "output_type": "stream",
     "text": [
      "0\n",
      "1\n",
      "2\n"
     ]
    }
   ],
   "source": [
    "for i in range(3):\n",
    "    print(i)"
   ]
  },
  {
   "cell_type": "markdown",
   "id": "fea3fa2f",
   "metadata": {},
   "source": [
    "### Question 12"
   ]
  },
  {
   "cell_type": "code",
   "execution_count": 30,
   "id": "9ffa4fbd",
   "metadata": {},
   "outputs": [],
   "source": [
    "class Solution:\n",
    "    def merge(self, arr1, arr2, n, m): \n",
    "        # code here\n",
    "        i = n-1\n",
    "        j = 0\n",
    "        while(i>=0 and j<m):\n",
    "            if arr1[i]>arr2[j]:\n",
    "                arr1[i],arr2[j] = arr2[j],arr1[i]\n",
    "                i-=1\n",
    "                j+=1\n",
    "            else:\n",
    "                break\n",
    "        arr1.sort()\n",
    "        arr2.sort()"
   ]
  },
  {
   "cell_type": "markdown",
   "id": "424abb6d",
   "metadata": {},
   "source": [
    "### Question 24"
   ]
  },
  {
   "cell_type": "code",
   "execution_count": 29,
   "id": "12ac354f",
   "metadata": {},
   "outputs": [],
   "source": [
    "# https://www.youtube.com/watch?v=qgizvmgeyUM\n",
    "class Solution:\n",
    "    \n",
    "    # arr[] : the input array\n",
    "    # N : size of the array arr[]\n",
    "    \n",
    "    #Function to return length of longest subsequence of consecutive integers.\n",
    "    def findLongestConseqSubseq(self,arr, N):\n",
    "        #code here\n",
    "        setr = set()\n",
    "        for i in arr:\n",
    "            setr.add(i)\n",
    "        maxl = 1\n",
    "        for i in setr:\n",
    "            curr = 1\n",
    "            if i-1 not in setr:\n",
    "                j = i\n",
    "                while(j+1 in setr):\n",
    "                    curr+=1\n",
    "                    j+=1\n",
    "            maxl = max(maxl,curr)\n",
    "        return maxl "
   ]
  },
  {
   "cell_type": "markdown",
   "id": "48e9d3bb",
   "metadata": {},
   "source": [
    "### Question 32"
   ]
  },
  {
   "cell_type": "code",
   "execution_count": 15,
   "id": "40c8495b",
   "metadata": {},
   "outputs": [],
   "source": [
    "class Solution:\n",
    "    #Function to partition the array around the range such \n",
    "    #that array is divided into three parts.\n",
    "    def threeWayPartition(self, array, a, b):\n",
    "    i = 0\n",
    "    j = len(array)-1\n",
    "    while(i<j):\n",
    "        if array[i]<a:\n",
    "            i+=1\n",
    "        elif array[i]>=a and array[j]<a:\n",
    "            array[i],array[j] = array[j],array[i]\n",
    "            i+=1\n",
    "        elif array[i]>=a and array[j]>=a:\n",
    "            j-=1\n",
    "    j = len(array)-1\n",
    "    while(i<j):\n",
    "        if array[i]<b:\n",
    "            i+=1\n",
    "        elif array[i]>=b and array[j]<b:\n",
    "            array[i],array[j] = array[j],array[i]\n",
    "            i+=1\n",
    "            j-=1\n",
    "        elif array[i]>=b and array[j]>=b:\n",
    "            j-=1\n",
    "    return array\n"
   ]
  },
  {
   "cell_type": "markdown",
   "id": "1242be5a",
   "metadata": {},
   "source": [
    "### Question 33"
   ]
  },
  {
   "cell_type": "code",
   "execution_count": 20,
   "id": "8a5afc84",
   "metadata": {},
   "outputs": [],
   "source": [
    "# https://www.youtube.com/watch?v=DkOaYAfolnQ\n",
    "import sys\n",
    "def minSwap (arr, n, k) : \n",
    "    #Complete the function\n",
    "    good = 0\n",
    "    for i in arr:\n",
    "        if i <=k:\n",
    "            good+=1\n",
    "    bad = 0\n",
    "    minswap = sys.maxsize\n",
    "    for i in range(good):\n",
    "        if arr[i]>k:\n",
    "            bad+=1\n",
    "    i = 0\n",
    "    j = good-1\n",
    "    while(j<n):\n",
    "        minswap = min(minswap,bad)\n",
    "        j+=1\n",
    "        if j<n and arr[j]>k:\n",
    "            bad+=1\n",
    "        if j<n and arr[i]>k:\n",
    "            bad-=1\n",
    "        i+=1\n",
    "    return minswap\n"
   ]
  },
  {
   "cell_type": "markdown",
   "id": "517750c1",
   "metadata": {},
   "source": [
    "### Question 35"
   ]
  },
  {
   "cell_type": "code",
   "execution_count": 44,
   "id": "63ab34a8",
   "metadata": {},
   "outputs": [],
   "source": [
    "def getMedian(arr1,arr2,n):\n",
    "    if n==0:\n",
    "        return -1\n",
    "    elif n == 1:\n",
    "        return (arr1[0] + arr2[0])/2\n",
    "    \n",
    "    elif n==2:\n",
    "        return (max(arr1[0],arr2[0])+min(arr1[1],arr2[1]))/2\n",
    "    else:\n",
    "        m1 = median(arr1,n)\n",
    "        m2 = median(arr2,n)\n",
    "        \n",
    "        if(m1 == m2):\n",
    "            return m1\n",
    "        elif m1>m2:\n",
    "            if(n%2==0):\n",
    "                return getMedian(arr1[:int(n/2)+1],arr2[int(n/2)-1:],int(n/2)+1)\n",
    "            else:\n",
    "                return getMedian(arr1[:int(n/2)+1],arr2[int(n/2):],int(n/2)+1)\n",
    "        else:\n",
    "            if(n%2==0):\n",
    "                return getMedian(arr1[int(n/2)-1:],arr2[:int(n/2)+1],int(n/2)+1)\n",
    "            else:\n",
    "                return getMedian(arr1[int(n/2):],arr2[:int(n/2)+1],int(n/2)+1)\n",
    "        \n",
    "def median(arr,n):\n",
    "    if (n%2==0):\n",
    "        return (arr[int(n/2)] + arr[int(n/2) + 1])/2\n",
    "    else:\n",
    "        return (arr[int(n/2)])"
   ]
  },
  {
   "cell_type": "code",
   "execution_count": 45,
   "id": "9aad2adc",
   "metadata": {},
   "outputs": [
    {
     "name": "stdout",
     "output_type": "stream",
     "text": [
      "5\n"
     ]
    }
   ],
   "source": [
    "arr1 = [1, 2, 3, 6]\n",
    "arr2 = [4, 6, 8, 10]\n",
    "n = len(arr1)\n",
    "print(int(getMedian(arr1,arr2,n)))"
   ]
  },
  {
   "cell_type": "markdown",
   "id": "374088a6",
   "metadata": {},
   "source": [
    "### Question 36"
   ]
  },
  {
   "cell_type": "code",
   "execution_count": 82,
   "id": "ada1c80a",
   "metadata": {},
   "outputs": [],
   "source": [
    "# https://www.youtube.com/watch?v=NTop3VTjmxk&ab_channel=takeUforward\n",
    "import sys\n",
    "class Solution:\n",
    "    def findMedianSortedArrays(self, nums1, nums2) -> float:\n",
    "        if (len(nums1)>len(nums2)):\n",
    "            return self.findMedianSortedArrays(nums2,nums1)\n",
    "        n1 = len(nums1)\n",
    "        n2 = len(nums2)\n",
    "        low = 0\n",
    "        high = n1\n",
    "        while(low<=high):\n",
    "            cut1 = ((low+high)//2)\n",
    "            cut2 = ((n1 + n2 +1)//2) - cut1\n",
    "            \n",
    "            left1 = -sys.maxsize if cut1==0 else nums1[cut1-1]\n",
    "            left2 = -sys.maxsize if cut2==0 else nums2[cut2-1]\n",
    "            \n",
    "            right1 = nums1[cut1] if cut1!=n1 else sys.maxsize\n",
    "            right2 = nums2[cut2] if cut2!=n2 else sys.maxsize\n",
    "            \n",
    "            if (left1<=right2 and left2 <=right1):\n",
    "                if((n1+n2)%2 == 0):\n",
    "                    return (max(left1,left2) + min(right1,right2))/2\n",
    "                else:\n",
    "                    return max(left1,left2)\n",
    "            elif(left1>right2):\n",
    "                high = cut1-1\n",
    "            else:\n",
    "                low = cut1 + 1\n",
    "        return 0"
   ]
  },
  {
   "cell_type": "code",
   "execution_count": null,
   "id": "fc8f689b",
   "metadata": {},
   "outputs": [],
   "source": []
  }
 ],
 "metadata": {
  "kernelspec": {
   "display_name": "Python 3",
   "language": "python",
   "name": "python3"
  },
  "language_info": {
   "codemirror_mode": {
    "name": "ipython",
    "version": 3
   },
   "file_extension": ".py",
   "mimetype": "text/x-python",
   "name": "python",
   "nbconvert_exporter": "python",
   "pygments_lexer": "ipython3",
   "version": "3.8.8"
  }
 },
 "nbformat": 4,
 "nbformat_minor": 5
}
